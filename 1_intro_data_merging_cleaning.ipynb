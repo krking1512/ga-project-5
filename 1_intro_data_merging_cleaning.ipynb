{
 "cells": [
  {
   "cell_type": "markdown",
   "metadata": {},
   "source": [
    "# Project 5: US College COVID-19 Analysis"
   ]
  },
  {
   "cell_type": "markdown",
   "metadata": {},
   "source": [
    "##### Aziz Maredia, Katharine King, Manuel Sainz de la Peña, Max Bosse | DSIR-1019 | 12.23.20"
   ]
  },
  {
   "cell_type": "markdown",
   "metadata": {},
   "source": [
    "## Problem Statement"
   ]
  },
  {
   "cell_type": "code",
   "execution_count": null,
   "metadata": {},
   "outputs": [],
   "source": []
  },
  {
   "cell_type": "markdown",
   "metadata": {},
   "source": [
    "## Data Sets & Dictionary"
   ]
  },
  {
   "cell_type": "markdown",
   "metadata": {},
   "source": [
    "* [`nyt_college.csv`](./datasets/nyt_college.csv): Colleges and counts of Coronavirus case counts, [NYT Repository](https://github.com/nytimes/covid-19-data/tree/master/colleges)\n",
    "* [`admissions1.csv`](./datasets/admissions1.csv): Data pulled from IPED's database, part 1, [IPED Database](https://nces.ed.gov/ipeds/)\n",
    "* [`admissions2.csv`](./datasets/admissions2.csv): Data pulled from IPED's database, part 2, [IPED Database](https://nces.ed.gov/ipeds/)\n",
    "* [`sports.csv`](./datasets/sports.csv): Data pulled from IPED's database, part 3, [IPED Database](https://nces.ed.gov/ipeds/)\n",
    "* [`regions.csv`](./datasets/regions.csv): State region and sports division\n",
    "* [`state_policies.csv`](./datasets/state_policies.csv): State Social Distancing and other Coronavirus policies as of August 11th, [Kaiser Family Foundation](https://github.com/KFFData/COVID-19-Data/tree/kff_master/State%20Policy%20Actions/State%20Social%20Distancing%20Actions)\n",
    "* [`classplan.csv`]('./datasets/classplan.csv'): Dataset of colleges and their intended plan for the Fall of 2020 [The Chronicle of Higher Education](https://www.chronicle.com/article/heres-a-list-of-colleges-plans-for-reopening-in-the-fall/)\n",
    "* [`combined_df.csv`]('./datasets/combined_df.csv): Merged Dataframe created in [intro_data_merging_cleaning]('./code/intro_data_merging_cleaning.ipnyb')\n",
    "\n",
    "Target Column: Predict a University's classification into **greater_than_5**, which indicates whether a college has case counts that exceed 5% of the total enrolled population"
   ]
  },
  {
   "cell_type": "markdown",
   "metadata": {},
   "source": [
    "## Dataframe Merging & Cleaning"
   ]
  },
  {
   "cell_type": "markdown",
   "metadata": {},
   "source": [
    "#### Loading in NYT college covid data"
   ]
  },
  {
   "cell_type": "code",
   "execution_count": 1,
   "metadata": {},
   "outputs": [
    {
     "data": {
      "text/html": [
       "<div>\n",
       "<style scoped>\n",
       "    .dataframe tbody tr th:only-of-type {\n",
       "        vertical-align: middle;\n",
       "    }\n",
       "\n",
       "    .dataframe tbody tr th {\n",
       "        vertical-align: top;\n",
       "    }\n",
       "\n",
       "    .dataframe thead th {\n",
       "        text-align: right;\n",
       "    }\n",
       "</style>\n",
       "<table border=\"1\" class=\"dataframe\">\n",
       "  <thead>\n",
       "    <tr style=\"text-align: right;\">\n",
       "      <th></th>\n",
       "      <th>date</th>\n",
       "      <th>state</th>\n",
       "      <th>county</th>\n",
       "      <th>city</th>\n",
       "      <th>ipeds_id</th>\n",
       "      <th>college</th>\n",
       "      <th>cases</th>\n",
       "      <th>notes</th>\n",
       "    </tr>\n",
       "  </thead>\n",
       "  <tbody>\n",
       "    <tr>\n",
       "      <th>0</th>\n",
       "      <td>2020-12-11</td>\n",
       "      <td>Texas</td>\n",
       "      <td>Taylor</td>\n",
       "      <td>Abilene</td>\n",
       "      <td>222178.0</td>\n",
       "      <td>Abilene Christian University</td>\n",
       "      <td>553.0</td>\n",
       "      <td>NaN</td>\n",
       "    </tr>\n",
       "    <tr>\n",
       "      <th>1</th>\n",
       "      <td>2020-12-11</td>\n",
       "      <td>Georgia</td>\n",
       "      <td>Tift</td>\n",
       "      <td>Tifton</td>\n",
       "      <td>138558.0</td>\n",
       "      <td>Abraham Baldwin Agricultural College</td>\n",
       "      <td>165.0</td>\n",
       "      <td>NaN</td>\n",
       "    </tr>\n",
       "    <tr>\n",
       "      <th>2</th>\n",
       "      <td>2020-12-11</td>\n",
       "      <td>California</td>\n",
       "      <td>San Francisco</td>\n",
       "      <td>San Francisco</td>\n",
       "      <td>108232.0</td>\n",
       "      <td>Academy of Art University</td>\n",
       "      <td>NaN</td>\n",
       "      <td>NaN</td>\n",
       "    </tr>\n",
       "    <tr>\n",
       "      <th>3</th>\n",
       "      <td>2020-12-11</td>\n",
       "      <td>Colorado</td>\n",
       "      <td>Alamosa</td>\n",
       "      <td>Alamosa</td>\n",
       "      <td>126182.0</td>\n",
       "      <td>Adams State University</td>\n",
       "      <td>108.0</td>\n",
       "      <td>NaN</td>\n",
       "    </tr>\n",
       "    <tr>\n",
       "      <th>4</th>\n",
       "      <td>2020-12-11</td>\n",
       "      <td>New York</td>\n",
       "      <td>Nassau</td>\n",
       "      <td>Garden City</td>\n",
       "      <td>188429.0</td>\n",
       "      <td>Adelphi University</td>\n",
       "      <td>60.0</td>\n",
       "      <td>NaN</td>\n",
       "    </tr>\n",
       "  </tbody>\n",
       "</table>\n",
       "</div>"
      ],
      "text/plain": [
       "         date       state         county           city  ipeds_id  \\\n",
       "0  2020-12-11       Texas         Taylor        Abilene  222178.0   \n",
       "1  2020-12-11     Georgia           Tift         Tifton  138558.0   \n",
       "2  2020-12-11  California  San Francisco  San Francisco  108232.0   \n",
       "3  2020-12-11    Colorado        Alamosa        Alamosa  126182.0   \n",
       "4  2020-12-11    New York         Nassau    Garden City  188429.0   \n",
       "\n",
       "                                college  cases notes  \n",
       "0          Abilene Christian University  553.0   NaN  \n",
       "1  Abraham Baldwin Agricultural College  165.0   NaN  \n",
       "2             Academy of Art University    NaN   NaN  \n",
       "3                Adams State University  108.0   NaN  \n",
       "4                    Adelphi University   60.0   NaN  "
      ]
     },
     "execution_count": 1,
     "metadata": {},
     "output_type": "execute_result"
    }
   ],
   "source": [
    "import pandas as pd\n",
    "\n",
    "data = pd.read_csv('./datasets/nyt_college.csv')\n",
    "data.head()"
   ]
  },
  {
   "cell_type": "markdown",
   "metadata": {},
   "source": [
    "#### Checking for null values and dropping row w/ with null 'ipeds_id'"
   ]
  },
  {
   "cell_type": "code",
   "execution_count": 2,
   "metadata": {},
   "outputs": [
    {
     "data": {
      "text/plain": [
       "date           0\n",
       "state          0\n",
       "county         3\n",
       "city           0\n",
       "ipeds_id       1\n",
       "college        0\n",
       "cases         70\n",
       "notes       1916\n",
       "dtype: int64"
      ]
     },
     "execution_count": 2,
     "metadata": {},
     "output_type": "execute_result"
    }
   ],
   "source": [
    "data.isnull().sum()"
   ]
  },
  {
   "cell_type": "code",
   "execution_count": 3,
   "metadata": {},
   "outputs": [],
   "source": [
    "data.dropna(subset = ['ipeds_id'], inplace = True)\n",
    "data.reset_index(inplace = True)"
   ]
  },
  {
   "cell_type": "markdown",
   "metadata": {},
   "source": [
    "#### Dropping columns unnecessary for analysis"
   ]
  },
  {
   "cell_type": "code",
   "execution_count": 5,
   "metadata": {},
   "outputs": [],
   "source": [
    "data.drop(columns = ['index', 'date', 'county', 'city', 'notes'], inplace = True)"
   ]
  },
  {
   "cell_type": "markdown",
   "metadata": {},
   "source": [
    "#### Building function to create string of all 'ipeds_ids' separtated by commas \n",
    "\n",
    "#### This string will be used to easily search for an pull college admissions statistics from https://nces.ed.gov/ipeds/use-the-data"
   ]
  },
  {
   "cell_type": "code",
   "execution_count": 6,
   "metadata": {},
   "outputs": [],
   "source": [
    "data['ids'] = [str(n) for n in data['ipeds_id'].astype(int)]\n",
    "\n",
    "def get_commaed_list(column, max_length):\n",
    "    \n",
    "    number_of_lists = int(len(column)/max_length)+1\n",
    "    start = 0\n",
    "    \n",
    "    for i in range(1,number_of_lists):\n",
    "        print(f'list{i}')\n",
    "        string = ''\n",
    "        \n",
    "        for n in range(start,(max_length*(i))):\n",
    "            string = string + (str(column[n]) + ',')\n",
    "        print(string)\n",
    "        start = start + max_length\n",
    "    \n",
    "    for i in range(number_of_lists, number_of_lists+1):   \n",
    "        print(f'list{i}')\n",
    "        string = ''\n",
    "        for n in range((max_length*(number_of_lists-1)),len(column)):\n",
    "            string = string + (str(column[n]) + ',')\n",
    "        print(string,)\n",
    "    \n",
    "    return"
   ]
  },
  {
   "cell_type": "code",
   "execution_count": 7,
   "metadata": {},
   "outputs": [
    {
     "name": "stdout",
     "output_type": "stream",
     "text": [
      "list1\n",
      "222178,138558,108232,126182,188429,188438,168528,133872,138600,200697,100654,100724,188526,188580,138716,385415,128498,168546,210571,175342,237118,172918,188641,156189,210669,154642,168591,168607,210775,238193,447883,164447,240736,131159,164465,150066,217633,168740,222831,164492,172954,172963,109350,245865,197869,168786,126289,211088,104151,104160,107327,106458,440402,106467,404994,156222,156213,156231,201104,164562,100812,138901,132374,485768,100858,100830,173045,482149,143084,219000,143118,222983,222992,219602,446048,451149,451158,231420,457411,109785,164580,154688,109819,201195,150136,189015,189088,189097,132471,197911,160977,437103,168883,380359,164632,223232,164720,247065,175421,156286,234669,234696,197984,219709,238333,173124,137591,217721,154712,145619,230816,164739,156295,183789,189228,139144,154721,237181,173142,154749,173160,219718,132602,102429,137856,157553,110097,100937,200022,219046,106625,143288,223427,183822,211158,231554,237215,156392,201371,217749,142115,189413,158431,164924,164988,161004,162007,201441,201432,143358,165015,223506,139199,156356,198066,231581,165024,230038,230047,142522,132709,217156,18956501,188517,18958301,189583,189592,18959201,18958302,189565,217165,210492,211273,211291,153001,154800,150163,211352,215114,183910,101514,110361,110404,110413,110422,110529,111188,110486,441937,110538,110547,110574,110565,110583,110592,409698,110608,110617,110510,366711,110495,211361,169080,206914,198136,156365,189705,201548,173258,211440,433174,180106,238458,219806,238476,439190,201645,240505,230834,198215,131283,189839,189848,211468,201654,158477,183974,100760,106713,154855,153108,128771,173203,17320301,158088,176947,169248,201690,234827,234845,156408,175315,180948,141486,230852,111948,217688,132976,211556,219824,211583,211608,144005,133021,198303,219833,231712,406547,217873,112260,211644,138947,234933,201973,165334,153126,211024,190044,19004401,139311,156417,169327,217882,219879,202134,190053,234951,218724,153144,217907,161086,182634,241720,190099,132851,217819,139250,142294,193399,167394,174747,186618,142559,182005,166124,376695,178697,247834,126669,126678,127556,126711,126775,126818,128106,234979,144281,219888,190150,190169,202170,139366,210605,126863,126942,230861,237330,133854,173300,190248,169363,144351,112075,224004,238616,180984,173328,128902,241766,217961,162283,153162,190415,170037,438285,106795,139393,181002,177135,174862,190503,219949,190512,190521,190530,190549,190567,190558,475565,190585,190594,190600,190619,190628,190637,190646,190655,190664,190673,190682,190691,165529,202356,113236,190716,190725,200314,173416,219082,224226,139463,231882,182670,169479,198385,237358,194569,180151,133386,165574,202514,130934,130907,13090701,13090702,211981,158662,175616,202523,144740,150400,210739,482413,212009,200059,158802,105297,230171,181020,154998,\n",
      "list2\n",
      "190761,148496,113698,153250,153269,184348,212054,177214,198419,212106,198455,190840,220057,150455,198464,207041,139621,212115,220075,224527,129215,132693,144892,153311,156620,232043,169798,165644,187648,208646,212133,231970,235097,240596,133492,238661,212160,235103,133526,113980,488305,198507,212197,156648,153296,144962,190974,190983,198516,490346,133553,104586,165662,139630,165671,232025,139658,155025,165699,101143,191083,217998,369419,241951,144971,177339,235149,385619,235167,196680,129242,184603,184694,237367,196042,191126,198543,114433,184612,169910,232089,191199,475422,172440,137023,165820,191205,133711,461245,180197,160481,155052,133650,133669,487427,133809,135160,433660,476814,133881,133951,133979,408844,482936,134079,133508,133702,134097,134112,380368,177418,114716,191241,155061,127185,135267,139719,445744,165866,218061,160074,205957,212577,150604,182795,441982,459329,114813,110556,127200,156727,162584,134237,191302,218070,101240,490090,491181,156471,131450,224961,212601,198561,157438,191339,212656,208822,232186,134291,131469,156745,131496,139861,447689,139700,139755,485111,139931,139764,139940,184773,212674,494551,169974,237385,230889,130989,235316,165936,139968,150668,162654,145336,150677,153366,15336601,159009,104717,170055,170082,153375,183257,235334,225070,182306,183150,180249,170091,235343,198598,218113,145372,153384,212805,198613,134343,173647,490559,212832,191515,173665,232256,166018,232265,150756,225247,107044,177551,191533,166027,115409,155140,181127,212911,141644,153445,156790,490054,49005401,166045,203067,203085,180276,191597,156851,107071,107080,173708,170240,191612,155177,173735,198695,235431,191621,225371,134495,170286,203128,191630,191649,232308,212984,115728,162760,170301,156860,191676,225399,225548,131520,191719,115755,101435,487524,155195,193405,142276,434584,145691,145725,145813,145646,213011,457387,134608,151324,151351,151388,151333,151360,213020,151342,151379,151111,187745,173799,191931,153603,153621,173805,191968,150987,170444,220400,175856,101480,134945,232423,192004,191986,156921,192022,107141,203368,162928,217235,445708,439288,414823,198756,155210,213251,170532,177746,155399,155414,141796,146366,185262,183062,13508113,13508108,13508104,13508101,13508107,13508102,13508112,13508116,13508103,13508111,486840,203517,203447,203456,203492,203465,203474,203483,203526,157100,157058,157076,203535,169983,192192,213303,220516,213321,146427,213349,171881,213358,213367,155450,213385,140234,203580,146481,146506,170620,200192,173461,170639,135179,235699,135188,238980,183123,127389,226091,213400,218229,247649,220598,209038,207209,226134,166391,170675,239017,192323,213507,220613,198808,141811,213543,220604,198835,166452,226231,209056,146612,142328,450632,157207,232557,218238,220631,213598,177940,177968,135294,157216,209065,437316,219976,180328,135276,198862,\n",
      "list3\n",
      "213613,192509,192448,232566,203748,135337,153825,133155,159568,483212,159391,159382,159373,435000,159407,159416,159647,203757,235750,117946,146719,163046,159656,226383,101602,153834,213668,132657,106342,173902,238263,157304,170806,182917,161299,203775,151777,192703,192749,213783,239071,192785,151786,239080,203845,101648,419226,192819,239105,198899,237525,153922,173452,232672,192864,232706,220710,178059,213826,166674,167288,166656,166683,166692,157331,200226,164270,147013,226578,226587,159717,192925,218335,484066,118693,140447,193016,213987,198950,244279,166850,173993,17399301,213996,198969,190114,174020,127565,135717,134811,204024,171100,171128,171155,482158,220978,230959,226806,181330,157377,226833,143853,423643,193201,461014,101675,180373,214041,486901,147244,118888,175980,239318,174136,175263,173559,174358,173920,173638,200253,118912,214069,176053,176008,176080,176035,176044,178244,178341,179566,178411,178387,129774,118976,105206,193283,193292,147341,185572,193308,193326,262165,180461,180179,180522,180416,185590,199032,147369,214157,157386,140553,127617,163453,154004,221096,169275,214166,166939,219198,239390,204200,193353,163462,214175,157401,204264,183141,221184,193478,106980,187596,119678,193584,181446,214272,441900,262129,182980,185129,185828,187897,187967,187912,188030,159948,440262,193751,418126,194073,439783,194091,193821,193830,194116,193900,218414,155335,183099,193946,193973,159966,167260,232937,174428,107460,199102,199157,199193,199209,147660,204422,174437,200305,200332,136145,218441,174376,142443,147679,236072,176169,204477,221908,147776,127732,439817,207263,167358,105330,147703,157447,240790,171456,188058,207281,219259,230913,23091302,239512,174473,160667,367459,136233,380377,160010,178624,142461,173115,154101,171483,207306,160038,147767,171492,230995,204468,120184,163578,409032,136215,200086,158884,194161,152099,171571,204501,120254,227304,219277,140696,204617,204635,204796,204857,204820,204802,204848,204839,204866,237640,204909,433068,207403,207324,207458,207351,207388,207315,207564,207397,232982,171599,147828,236188,194222,207582,194240,135735,136303,138372,138488,209490,209506,209542,440828,127778,204936,107512,247940,177472,194310,414595,236230,209612,136330,136358,147916,136400,136109,156426,194392,221643,236258,214777,214801,214689,214698,214591,214704,214731,214616,212018,214740,214759,214607,214786,214713,214768,214670,214795,214625,214810,214652,214634,214643,214829,366252,136473,121150,181534,199306,140818,235237,127820,489812,167455,174570,137087,155681,121257,194499,183080,121309,215442,136516,121345,209807,130183,237701,227526,194578,430582,218539,186131,148016,217402,127884,243780,24378001,24378006,24378002,24378007,24378009,24378004,24378008,24378003,24378010,151102,490805,199412,148131,130226,136659,233277,174604,186201,233301,233295,13830902,\n",
      "list4\n",
      "127909,209922,167598,127918,194824,236382,217420,217493,221351,227757,186283,136765,175236,121886,239628,436304,183114,173063,137713,183211,221397,233426,215655,194958,174738,195003,170967,195049,148405,179043,195058,180595,217518,207661,136950,207670,152318,215691,184782,195128,176318,186380,186371,186399,130253,172051,154235,183239,199582,227845,19570201,215743,174792,160409,161518,215770,137032,179159,236452,152390,123554,174817,231059,239716,186432,215798,148627,199607,167729,237783,163851,180647,230746,217536,227881,102049,122339,122375,122384,122409,122597,122755,188100,121619,122931,137096,188137,122977,399212,195304,140960,195322,143048,172200,228042,123165,236513,236577,236595,137209,186584,215947,123299,199643,205443,233541,237792,137245,216010,140988,195474,172264,461759,167783,154350,205470,219374,200466,236638,195526,123509,216038,167835,102076,230597,123563,157711,123572,481094,107974,218733,173911,219347,219356,366003,137315,482699,434061,236504,409315,156338,181640,157739,179557,428170,148937,160612,207847,137564,221661,107983,130493,149222,149231,228246,206862,183026,210146,251260,160621,160630,160649,440916,230603,233611,217776,179326,175078,221485,123800,155900,143215,207865,228343,160579,157757,236692,236708,172334,102234,167899,195164,175005,174783,174756,195173,195720,195809,137281,183248,195562,195544,195191,195216,179265,179308,163912,228149,174844,175041,137078,195243,137476,243744,135391,179539,228431,179548,155937,231095,137546,186867,164173,186876,366340,167996,196097,44903808,366395,168005,228501,195988,157793,137120,487311,196060,196006,196158,196079,196121,189547,196130,196015,196033,196200,196103,196228,190442,196149,196024,196255,196264,196167,196291,196051,196176,196237,196185,196194,196246,196112,196219,196088,197294,216278,216287,196389,233718,196413,236753,137759,228529,152530,488800,216339,219596,219921,221591,221430,219994,220127,220251,220279,220321,220394,221616,221625,220640,220756,221607,220853,221050,221102,248925,221236,221582,221281,221333,221388,221494,221634,221838,221847,206011,228699,226152,228723,483036,224554,224147,228705,459949,224545,228875,228884,228981,229063,228459,229115,229337,492689,229160,229179,217864,187134,195234,174899,133960,197285,206589,190576,454184,193654,157748,202763,221519,216357,161563,187046,216366,183275,157809,206048,196565,196592,164076,157818,135522,221892,218885,152567,128258,130590,137962,229267,131876,196653,102368,10236803,10236802,10236801,182500,178615,168148,160755,130606,221953,102377,229355,196699,157863,196866,221971,128328,130624,197027,197036,164155,369400,200800,100751,100663,100706,102553,102614,102632,104179,106397,108092,106245,106485,106412,10772501,107743,107585,106263,107664,161873,128744,110635,110644,110398,110653,110662,445188,110671,110680,110699,110705,110714,\n",
      "list5\n",
      "106704,132903,176965,206941,237312,144050,201885,126614,126580,126562,129020,224323,202480,130943,127060,169716,153278,150534,134130,457402,139959,240754,129525,141565,141574,141839,141981,160065,225511,225414,225432,225502,142285,145600,148654,145637,151263,153658,155317,157085,117140,160658,159993,157289,232609,161253,161217,161235,161244,161341,161226,200217,226471,232681,163338,163259,163268,163286,166629,166638,167987,166513,166708,220862,135726,170976,171137,171146,174075,174233,174251,456959,174066,176017,17601701,178396,178402,178420,180489,180692,101709,199069,204185,181215,181394,181428,181464,182281,182290,161457,183044,129941,187985,159939,101879,199111,199120,199139,199148,199281,199184,199218,200280,136172,482680,227216,484905,228909,127741,154095,174491,152080,207500,209551,215062,157535,215293,215266,215275,215284,209825,243106,243115,243133,243142,243151,243179,243212,243188,243221,243203,236328,121691,217484,233374,195030,130314,155812,122436,122612,207722,215929,219383,102094,218663,218645,218654,218742,219471,137351,451671,448840,123961,151306,161554,176372,174914,227863,137847,221740,221768,487010,221759,228769,228778,228787,228796,229027,228802,229300,228644,485537,416801,228653,229018,227368,228635,156541,131399,225627,107558,120883,215132,243665,206084,207971,230764,216542,231174,234076,233897,236948,377555,377564,101587,138354,141334,240268,240277,240329,240444,240453,240365,240374,240462,240471,240480,240417,240426,240189,240727,154493,440004,196307,216524,206349,230728,230737,197045,141264,138187,200572,152600,221999,197133,188340,175157,455992,231147,231165,197142,216597,152637,234030,233903,234085,234155,233921,234164,234173,240107,222053,152673,197197,199847,199856,236887,206437,222062,138275,199865,154527,156082,216667,234207,164216,236939,179867,172617,229780,181783,172644,216694,197221,138293,230782,179894,190424,168218,197230,236975,168227,131098,141325,130697,216764,157483,237932,229814,237880,237899,238032,237686,237950,237969,200004,128391,130776,149772,157951,172699,182564,168254,188304,210429,237011,240693,168263,179946,216807,230807,125727,237039,149781,168281,238078,183105,237057,125763,237066,156125,216852,216931,210401,231624,179955,187444,199272,154590,138479,179964,168342,200341,206507,131113,217013,199962,175272,199999,218964,240338,138497,206525,218973,168421,168430,197531,206604,206613,206622,160904,237109,130794,197708,217059,141361,206695,\n"
     ]
    }
   ],
   "source": [
    "get_commaed_list(data['ids'], 400)"
   ]
  },
  {
   "cell_type": "markdown",
   "metadata": {},
   "source": [
    "#### Loading in college admissions statistics dataframes"
   ]
  },
  {
   "cell_type": "code",
   "execution_count": 8,
   "metadata": {},
   "outputs": [
    {
     "name": "stdout",
     "output_type": "stream",
     "text": [
      "(6527, 24)\n",
      "(6527, 33)\n"
     ]
    }
   ],
   "source": [
    "# could only pull 20 features at a time so had to pull twice\n",
    "\n",
    "admissions = pd.read_csv('./datasets/admissions1.csv', index_col = 'UnitID')\n",
    "print(admissions.shape)\n",
    "\n",
    "admissions_2 = pd.read_csv('./datasets/admissions2.csv', index_col = 'UnitID')\n",
    "print(admissions_2.shape)"
   ]
  },
  {
   "cell_type": "markdown",
   "metadata": {},
   "source": [
    "#### Merging in first admissions statistics to base dataframe and dropping unnecessary columns"
   ]
  },
  {
   "cell_type": "code",
   "execution_count": 9,
   "metadata": {},
   "outputs": [
    {
     "data": {
      "text/html": [
       "<div>\n",
       "<style scoped>\n",
       "    .dataframe tbody tr th:only-of-type {\n",
       "        vertical-align: middle;\n",
       "    }\n",
       "\n",
       "    .dataframe tbody tr th {\n",
       "        vertical-align: top;\n",
       "    }\n",
       "\n",
       "    .dataframe thead th {\n",
       "        text-align: right;\n",
       "    }\n",
       "</style>\n",
       "<table border=\"1\" class=\"dataframe\">\n",
       "  <thead>\n",
       "    <tr style=\"text-align: right;\">\n",
       "      <th></th>\n",
       "      <th>key_0</th>\n",
       "      <th>state</th>\n",
       "      <th>ipeds_id</th>\n",
       "      <th>college</th>\n",
       "      <th>cases</th>\n",
       "      <th>ids</th>\n",
       "      <th>Institution Name</th>\n",
       "      <th>Institution (entity) name (HD2019)</th>\n",
       "      <th>Institution name alias (HD2019)</th>\n",
       "      <th>Fips County code (HD2019)</th>\n",
       "      <th>...</th>\n",
       "      <th>Imputation/Status Flag For Applicants total (ADM2019)</th>\n",
       "      <th>Admissions total (ADM2019)</th>\n",
       "      <th>Imputation/Status Flag For Admissions total (ADM2019)</th>\n",
       "      <th>Enrolled total (ADM2019)</th>\n",
       "      <th>Imputation/Status Flag For Enrolled total (ADM2019)</th>\n",
       "      <th>Admissions men (ADM2019)</th>\n",
       "      <th>Imputation/Status Flag For Admissions men (ADM2019)</th>\n",
       "      <th>Admissions women (ADM2019)</th>\n",
       "      <th>Imputation/Status Flag For Admissions women (ADM2019)</th>\n",
       "      <th>Unnamed: 24</th>\n",
       "    </tr>\n",
       "  </thead>\n",
       "  <tbody>\n",
       "    <tr>\n",
       "      <th>0</th>\n",
       "      <td>222178</td>\n",
       "      <td>Texas</td>\n",
       "      <td>222178.0</td>\n",
       "      <td>Abilene Christian University</td>\n",
       "      <td>553.0</td>\n",
       "      <td>222178</td>\n",
       "      <td>Abilene Christian University</td>\n",
       "      <td>Abilene Christian University</td>\n",
       "      <td></td>\n",
       "      <td>48441.0</td>\n",
       "      <td>...</td>\n",
       "      <td>R</td>\n",
       "      <td>6996.0</td>\n",
       "      <td>R</td>\n",
       "      <td>932.0</td>\n",
       "      <td>R</td>\n",
       "      <td>2558.0</td>\n",
       "      <td>R</td>\n",
       "      <td>4438.0</td>\n",
       "      <td>R</td>\n",
       "      <td>NaN</td>\n",
       "    </tr>\n",
       "    <tr>\n",
       "      <th>1</th>\n",
       "      <td>138558</td>\n",
       "      <td>Georgia</td>\n",
       "      <td>138558.0</td>\n",
       "      <td>Abraham Baldwin Agricultural College</td>\n",
       "      <td>165.0</td>\n",
       "      <td>138558</td>\n",
       "      <td>Abraham Baldwin Agricultural College</td>\n",
       "      <td>Abraham Baldwin Agricultural College</td>\n",
       "      <td>ABAC</td>\n",
       "      <td>13277.0</td>\n",
       "      <td>...</td>\n",
       "      <td>R</td>\n",
       "      <td>1475.0</td>\n",
       "      <td>R</td>\n",
       "      <td>919.0</td>\n",
       "      <td>R</td>\n",
       "      <td>653.0</td>\n",
       "      <td>R</td>\n",
       "      <td>822.0</td>\n",
       "      <td>R</td>\n",
       "      <td>NaN</td>\n",
       "    </tr>\n",
       "    <tr>\n",
       "      <th>2</th>\n",
       "      <td>108232</td>\n",
       "      <td>California</td>\n",
       "      <td>108232.0</td>\n",
       "      <td>Academy of Art University</td>\n",
       "      <td>NaN</td>\n",
       "      <td>108232</td>\n",
       "      <td>Academy of Art University</td>\n",
       "      <td>Academy of Art University</td>\n",
       "      <td></td>\n",
       "      <td>6075.0</td>\n",
       "      <td>...</td>\n",
       "      <td>NaN</td>\n",
       "      <td>NaN</td>\n",
       "      <td>NaN</td>\n",
       "      <td>NaN</td>\n",
       "      <td>NaN</td>\n",
       "      <td>NaN</td>\n",
       "      <td>NaN</td>\n",
       "      <td>NaN</td>\n",
       "      <td>NaN</td>\n",
       "      <td>NaN</td>\n",
       "    </tr>\n",
       "    <tr>\n",
       "      <th>3</th>\n",
       "      <td>126182</td>\n",
       "      <td>Colorado</td>\n",
       "      <td>126182.0</td>\n",
       "      <td>Adams State University</td>\n",
       "      <td>108.0</td>\n",
       "      <td>126182</td>\n",
       "      <td>Adams State University</td>\n",
       "      <td>Adams State University</td>\n",
       "      <td></td>\n",
       "      <td>8003.0</td>\n",
       "      <td>...</td>\n",
       "      <td>R</td>\n",
       "      <td>1749.0</td>\n",
       "      <td>R</td>\n",
       "      <td>399.0</td>\n",
       "      <td>R</td>\n",
       "      <td>711.0</td>\n",
       "      <td>R</td>\n",
       "      <td>1038.0</td>\n",
       "      <td>R</td>\n",
       "      <td>NaN</td>\n",
       "    </tr>\n",
       "    <tr>\n",
       "      <th>4</th>\n",
       "      <td>188429</td>\n",
       "      <td>New York</td>\n",
       "      <td>188429.0</td>\n",
       "      <td>Adelphi University</td>\n",
       "      <td>60.0</td>\n",
       "      <td>188429</td>\n",
       "      <td>Adelphi University</td>\n",
       "      <td>Adelphi University</td>\n",
       "      <td></td>\n",
       "      <td>36059.0</td>\n",
       "      <td>...</td>\n",
       "      <td>R</td>\n",
       "      <td>10342.0</td>\n",
       "      <td>R</td>\n",
       "      <td>1132.0</td>\n",
       "      <td>R</td>\n",
       "      <td>3244.0</td>\n",
       "      <td>R</td>\n",
       "      <td>7098.0</td>\n",
       "      <td>R</td>\n",
       "      <td>NaN</td>\n",
       "    </tr>\n",
       "  </tbody>\n",
       "</table>\n",
       "<p>5 rows × 30 columns</p>\n",
       "</div>"
      ],
      "text/plain": [
       "    key_0       state  ipeds_id                               college  cases  \\\n",
       "0  222178       Texas  222178.0          Abilene Christian University  553.0   \n",
       "1  138558     Georgia  138558.0  Abraham Baldwin Agricultural College  165.0   \n",
       "2  108232  California  108232.0             Academy of Art University    NaN   \n",
       "3  126182    Colorado  126182.0                Adams State University  108.0   \n",
       "4  188429    New York  188429.0                    Adelphi University   60.0   \n",
       "\n",
       "      ids                      Institution Name  \\\n",
       "0  222178          Abilene Christian University   \n",
       "1  138558  Abraham Baldwin Agricultural College   \n",
       "2  108232             Academy of Art University   \n",
       "3  126182                Adams State University   \n",
       "4  188429                    Adelphi University   \n",
       "\n",
       "     Institution (entity) name (HD2019) Institution name alias (HD2019)  \\\n",
       "0          Abilene Christian University                                   \n",
       "1  Abraham Baldwin Agricultural College                            ABAC   \n",
       "2             Academy of Art University                                   \n",
       "3                Adams State University                                   \n",
       "4                    Adelphi University                                   \n",
       "\n",
       "   Fips County code (HD2019)  ...  \\\n",
       "0                    48441.0  ...   \n",
       "1                    13277.0  ...   \n",
       "2                     6075.0  ...   \n",
       "3                     8003.0  ...   \n",
       "4                    36059.0  ...   \n",
       "\n",
       "  Imputation/Status Flag For Applicants total (ADM2019)  \\\n",
       "0                                                  R      \n",
       "1                                                  R      \n",
       "2                                                NaN      \n",
       "3                                                  R      \n",
       "4                                                  R      \n",
       "\n",
       "   Admissions total (ADM2019)  \\\n",
       "0                      6996.0   \n",
       "1                      1475.0   \n",
       "2                         NaN   \n",
       "3                      1749.0   \n",
       "4                     10342.0   \n",
       "\n",
       "   Imputation/Status Flag For Admissions total (ADM2019)  \\\n",
       "0                                                  R       \n",
       "1                                                  R       \n",
       "2                                                NaN       \n",
       "3                                                  R       \n",
       "4                                                  R       \n",
       "\n",
       "   Enrolled total (ADM2019)  \\\n",
       "0                     932.0   \n",
       "1                     919.0   \n",
       "2                       NaN   \n",
       "3                     399.0   \n",
       "4                    1132.0   \n",
       "\n",
       "   Imputation/Status Flag For Enrolled total (ADM2019)  \\\n",
       "0                                                  R     \n",
       "1                                                  R     \n",
       "2                                                NaN     \n",
       "3                                                  R     \n",
       "4                                                  R     \n",
       "\n",
       "   Admissions men (ADM2019)  \\\n",
       "0                    2558.0   \n",
       "1                     653.0   \n",
       "2                       NaN   \n",
       "3                     711.0   \n",
       "4                    3244.0   \n",
       "\n",
       "   Imputation/Status Flag For Admissions men (ADM2019)  \\\n",
       "0                                                  R     \n",
       "1                                                  R     \n",
       "2                                                NaN     \n",
       "3                                                  R     \n",
       "4                                                  R     \n",
       "\n",
       "   Admissions women (ADM2019)  \\\n",
       "0                      4438.0   \n",
       "1                       822.0   \n",
       "2                         NaN   \n",
       "3                      1038.0   \n",
       "4                      7098.0   \n",
       "\n",
       "   Imputation/Status Flag For Admissions women (ADM2019)  Unnamed: 24  \n",
       "0                                                  R              NaN  \n",
       "1                                                  R              NaN  \n",
       "2                                                NaN              NaN  \n",
       "3                                                  R              NaN  \n",
       "4                                                  R              NaN  \n",
       "\n",
       "[5 rows x 30 columns]"
      ]
     },
     "execution_count": 9,
     "metadata": {},
     "output_type": "execute_result"
    }
   ],
   "source": [
    "data = data.merge(admissions, left_on = data['ipeds_id'].astype(int), right_on = admissions.index, how = 'left')\n",
    "data.head()"
   ]
  },
  {
   "cell_type": "markdown",
   "metadata": {},
   "source": [
    "#### Dropping columns unnecessary for analysis after merge"
   ]
  },
  {
   "cell_type": "code",
   "execution_count": 10,
   "metadata": {},
   "outputs": [],
   "source": [
    "columns_to_drop = [\n",
    "                    'key_0',\n",
    "                    'Institution Name',\n",
    "                    'Institution (entity) name (HD2019)',\n",
    "                    'Institution name alias (HD2019)',\n",
    "                    'Fips County code (HD2019)',\n",
    "                    'State abbreviation (HD2019)',\n",
    "                    'FIPS state code (HD2019)',\n",
    "                    'Degree-granting status (HD2019)',\n",
    "                    'Undergraduate level programs or courses are offered via distance education (IC2019)',\n",
    "                    'Graduate level programs or courses are offered via distance education (IC2019)',\n",
    "                    'Does not offer distance education opportunities (IC2019)',\n",
    "                    'Distance education programs offered (IC2019)',\n",
    "                    'Applicants total (ADM2019)',\n",
    "                    'Imputation/Status Flag For Applicants total (ADM2019)',\n",
    "                    'Imputation/Status Flag For Admissions total (ADM2019)',\n",
    "                    'Imputation/Status Flag For Enrolled total (ADM2019)',\n",
    "                    'Imputation/Status Flag For Admissions men (ADM2019)',\n",
    "                    'Imputation/Status Flag For Admissions women (ADM2019)',\n",
    "                    'Unnamed: 24'\n",
    "                  ]\n",
    "\n",
    "# 'Institution size category (HD2019)', 'Distance education courses offered (IC2019)'"
   ]
  },
  {
   "cell_type": "code",
   "execution_count": 11,
   "metadata": {},
   "outputs": [],
   "source": [
    "data.drop(columns = columns_to_drop, inplace = True)"
   ]
  },
  {
   "cell_type": "markdown",
   "metadata": {},
   "source": [
    "#### Merging in second admissions statistics to base dataframe and dropping unnecessary columns"
   ]
  },
  {
   "cell_type": "code",
   "execution_count": 12,
   "metadata": {},
   "outputs": [
    {
     "data": {
      "text/html": [
       "<div>\n",
       "<style scoped>\n",
       "    .dataframe tbody tr th:only-of-type {\n",
       "        vertical-align: middle;\n",
       "    }\n",
       "\n",
       "    .dataframe tbody tr th {\n",
       "        vertical-align: top;\n",
       "    }\n",
       "\n",
       "    .dataframe thead th {\n",
       "        text-align: right;\n",
       "    }\n",
       "</style>\n",
       "<table border=\"1\" class=\"dataframe\">\n",
       "  <thead>\n",
       "    <tr style=\"text-align: right;\">\n",
       "      <th></th>\n",
       "      <th>key_0</th>\n",
       "      <th>state</th>\n",
       "      <th>ipeds_id</th>\n",
       "      <th>college</th>\n",
       "      <th>cases</th>\n",
       "      <th>ids</th>\n",
       "      <th>Institution size category (HD2019)</th>\n",
       "      <th>Distance education courses offered (IC2019)</th>\n",
       "      <th>Admissions total (ADM2019)</th>\n",
       "      <th>Enrolled total (ADM2019)</th>\n",
       "      <th>...</th>\n",
       "      <th>Imputation/Status Flag For ACT Composite 75th percentile score (ADM2019)</th>\n",
       "      <th>ACT English 25th percentile score (ADM2019)</th>\n",
       "      <th>Imputation/Status Flag For ACT English 25th percentile score (ADM2019)</th>\n",
       "      <th>ACT English 75th percentile score (ADM2019)</th>\n",
       "      <th>Imputation/Status Flag For ACT English 75th percentile score (ADM2019)</th>\n",
       "      <th>ACT Math 25th percentile score (ADM2019)</th>\n",
       "      <th>Imputation/Status Flag For ACT Math 25th percentile score (ADM2019)</th>\n",
       "      <th>ACT Math 75th percentile score (ADM2019)</th>\n",
       "      <th>Imputation/Status Flag For ACT Math 75th percentile score (ADM2019)</th>\n",
       "      <th>Unnamed: 33</th>\n",
       "    </tr>\n",
       "  </thead>\n",
       "  <tbody>\n",
       "    <tr>\n",
       "      <th>0</th>\n",
       "      <td>222178.0</td>\n",
       "      <td>Texas</td>\n",
       "      <td>222178.0</td>\n",
       "      <td>Abilene Christian University</td>\n",
       "      <td>553.0</td>\n",
       "      <td>222178</td>\n",
       "      <td>3.0</td>\n",
       "      <td>1.0</td>\n",
       "      <td>6996.0</td>\n",
       "      <td>932.0</td>\n",
       "      <td>...</td>\n",
       "      <td>R</td>\n",
       "      <td>19.0</td>\n",
       "      <td>R</td>\n",
       "      <td>28.0</td>\n",
       "      <td>R</td>\n",
       "      <td>18.0</td>\n",
       "      <td>R</td>\n",
       "      <td>26.0</td>\n",
       "      <td>R</td>\n",
       "      <td>NaN</td>\n",
       "    </tr>\n",
       "    <tr>\n",
       "      <th>1</th>\n",
       "      <td>138558.0</td>\n",
       "      <td>Georgia</td>\n",
       "      <td>138558.0</td>\n",
       "      <td>Abraham Baldwin Agricultural College</td>\n",
       "      <td>165.0</td>\n",
       "      <td>138558</td>\n",
       "      <td>2.0</td>\n",
       "      <td>1.0</td>\n",
       "      <td>1475.0</td>\n",
       "      <td>919.0</td>\n",
       "      <td>...</td>\n",
       "      <td>R</td>\n",
       "      <td>15.0</td>\n",
       "      <td>R</td>\n",
       "      <td>22.0</td>\n",
       "      <td>R</td>\n",
       "      <td>16.0</td>\n",
       "      <td>R</td>\n",
       "      <td>21.0</td>\n",
       "      <td>R</td>\n",
       "      <td>NaN</td>\n",
       "    </tr>\n",
       "    <tr>\n",
       "      <th>2</th>\n",
       "      <td>108232.0</td>\n",
       "      <td>California</td>\n",
       "      <td>108232.0</td>\n",
       "      <td>Academy of Art University</td>\n",
       "      <td>NaN</td>\n",
       "      <td>108232</td>\n",
       "      <td>3.0</td>\n",
       "      <td>1.0</td>\n",
       "      <td>NaN</td>\n",
       "      <td>NaN</td>\n",
       "      <td>...</td>\n",
       "      <td>NaN</td>\n",
       "      <td>NaN</td>\n",
       "      <td>NaN</td>\n",
       "      <td>NaN</td>\n",
       "      <td>NaN</td>\n",
       "      <td>NaN</td>\n",
       "      <td>NaN</td>\n",
       "      <td>NaN</td>\n",
       "      <td>NaN</td>\n",
       "      <td>NaN</td>\n",
       "    </tr>\n",
       "    <tr>\n",
       "      <th>3</th>\n",
       "      <td>126182.0</td>\n",
       "      <td>Colorado</td>\n",
       "      <td>126182.0</td>\n",
       "      <td>Adams State University</td>\n",
       "      <td>108.0</td>\n",
       "      <td>126182</td>\n",
       "      <td>2.0</td>\n",
       "      <td>1.0</td>\n",
       "      <td>1749.0</td>\n",
       "      <td>399.0</td>\n",
       "      <td>...</td>\n",
       "      <td>R</td>\n",
       "      <td>15.0</td>\n",
       "      <td>R</td>\n",
       "      <td>21.0</td>\n",
       "      <td>R</td>\n",
       "      <td>16.0</td>\n",
       "      <td>R</td>\n",
       "      <td>22.0</td>\n",
       "      <td>R</td>\n",
       "      <td>NaN</td>\n",
       "    </tr>\n",
       "    <tr>\n",
       "      <th>4</th>\n",
       "      <td>188429.0</td>\n",
       "      <td>New York</td>\n",
       "      <td>188429.0</td>\n",
       "      <td>Adelphi University</td>\n",
       "      <td>60.0</td>\n",
       "      <td>188429</td>\n",
       "      <td>3.0</td>\n",
       "      <td>1.0</td>\n",
       "      <td>10342.0</td>\n",
       "      <td>1132.0</td>\n",
       "      <td>...</td>\n",
       "      <td>R</td>\n",
       "      <td>22.0</td>\n",
       "      <td>R</td>\n",
       "      <td>29.0</td>\n",
       "      <td>R</td>\n",
       "      <td>19.0</td>\n",
       "      <td>R</td>\n",
       "      <td>26.0</td>\n",
       "      <td>R</td>\n",
       "      <td>NaN</td>\n",
       "    </tr>\n",
       "  </tbody>\n",
       "</table>\n",
       "<p>5 rows × 45 columns</p>\n",
       "</div>"
      ],
      "text/plain": [
       "      key_0       state  ipeds_id                               college  \\\n",
       "0  222178.0       Texas  222178.0          Abilene Christian University   \n",
       "1  138558.0     Georgia  138558.0  Abraham Baldwin Agricultural College   \n",
       "2  108232.0  California  108232.0             Academy of Art University   \n",
       "3  126182.0    Colorado  126182.0                Adams State University   \n",
       "4  188429.0    New York  188429.0                    Adelphi University   \n",
       "\n",
       "   cases     ids  Institution size category (HD2019)  \\\n",
       "0  553.0  222178                                 3.0   \n",
       "1  165.0  138558                                 2.0   \n",
       "2    NaN  108232                                 3.0   \n",
       "3  108.0  126182                                 2.0   \n",
       "4   60.0  188429                                 3.0   \n",
       "\n",
       "   Distance education courses offered (IC2019)  Admissions total (ADM2019)  \\\n",
       "0                                          1.0                      6996.0   \n",
       "1                                          1.0                      1475.0   \n",
       "2                                          1.0                         NaN   \n",
       "3                                          1.0                      1749.0   \n",
       "4                                          1.0                     10342.0   \n",
       "\n",
       "   Enrolled total (ADM2019)  ...  \\\n",
       "0                     932.0  ...   \n",
       "1                     919.0  ...   \n",
       "2                       NaN  ...   \n",
       "3                     399.0  ...   \n",
       "4                    1132.0  ...   \n",
       "\n",
       "   Imputation/Status Flag For ACT Composite 75th percentile score (ADM2019)  \\\n",
       "0                                                  R                          \n",
       "1                                                  R                          \n",
       "2                                                NaN                          \n",
       "3                                                  R                          \n",
       "4                                                  R                          \n",
       "\n",
       "   ACT English 25th percentile score (ADM2019)  \\\n",
       "0                                         19.0   \n",
       "1                                         15.0   \n",
       "2                                          NaN   \n",
       "3                                         15.0   \n",
       "4                                         22.0   \n",
       "\n",
       "  Imputation/Status Flag For ACT English 25th percentile score (ADM2019)  \\\n",
       "0                                                  R                       \n",
       "1                                                  R                       \n",
       "2                                                NaN                       \n",
       "3                                                  R                       \n",
       "4                                                  R                       \n",
       "\n",
       "  ACT English 75th percentile score (ADM2019)  \\\n",
       "0                                        28.0   \n",
       "1                                        22.0   \n",
       "2                                         NaN   \n",
       "3                                        21.0   \n",
       "4                                        29.0   \n",
       "\n",
       "  Imputation/Status Flag For ACT English 75th percentile score (ADM2019)  \\\n",
       "0                                                  R                       \n",
       "1                                                  R                       \n",
       "2                                                NaN                       \n",
       "3                                                  R                       \n",
       "4                                                  R                       \n",
       "\n",
       "   ACT Math 25th percentile score (ADM2019)  \\\n",
       "0                                      18.0   \n",
       "1                                      16.0   \n",
       "2                                       NaN   \n",
       "3                                      16.0   \n",
       "4                                      19.0   \n",
       "\n",
       "   Imputation/Status Flag For ACT Math 25th percentile score (ADM2019)  \\\n",
       "0                                                  R                     \n",
       "1                                                  R                     \n",
       "2                                                NaN                     \n",
       "3                                                  R                     \n",
       "4                                                  R                     \n",
       "\n",
       "  ACT Math 75th percentile score (ADM2019)  \\\n",
       "0                                     26.0   \n",
       "1                                     21.0   \n",
       "2                                      NaN   \n",
       "3                                     22.0   \n",
       "4                                     26.0   \n",
       "\n",
       "   Imputation/Status Flag For ACT Math 75th percentile score (ADM2019)  \\\n",
       "0                                                  R                     \n",
       "1                                                  R                     \n",
       "2                                                NaN                     \n",
       "3                                                  R                     \n",
       "4                                                  R                     \n",
       "\n",
       "  Unnamed: 33  \n",
       "0         NaN  \n",
       "1         NaN  \n",
       "2         NaN  \n",
       "3         NaN  \n",
       "4         NaN  \n",
       "\n",
       "[5 rows x 45 columns]"
      ]
     },
     "execution_count": 12,
     "metadata": {},
     "output_type": "execute_result"
    }
   ],
   "source": [
    "data = data.merge(admissions_2, left_on = data['ipeds_id'], right_on = admissions_2.index, how = 'left')\n",
    "data.head()"
   ]
  },
  {
   "cell_type": "markdown",
   "metadata": {},
   "source": [
    "#### Dropping columns unnecessary for analysis after merge"
   ]
  },
  {
   "cell_type": "code",
   "execution_count": 13,
   "metadata": {},
   "outputs": [],
   "source": [
    "columns_to_drop2 = [\n",
    "                    'key_0',\n",
    "                    'Institution Name',\n",
    "                    'Institution (entity) name (HD2019)',\n",
    "                    'Institution name alias (HD2019)',\n",
    "                    'Fips County code (HD2019)',\n",
    "                    'Imputation/Status Flag For Number of first-time degree/certificate-seeking students submitting SAT scores (ADM2019)',\n",
    "                    'Percent of first-time degree/certificate-seeking students submitting SAT scores (ADM2019)',\n",
    "                    'Imputation/Status Flag For Percent of first-time degree/certificate-seeking students submitting SAT scores (ADM2019)',\n",
    "                    'Imputation/Status Flag For Number of first-time degree/certificate-seeking students submitting ACT scores (ADM2019)',\n",
    "                    'Percent of first-time degree/certificate-seeking students submitting ACT scores (ADM2019)',\n",
    "                    'Imputation/Status Flag For Percent of first-time degree/certificate-seeking students submitting ACT scores (ADM2019)',\n",
    "                    'Imputation/Status Flag For SAT Evidence-Based Reading and Writing 25th percentile score (ADM2019)',\n",
    "                    'Imputation/Status Flag For SAT Evidence-Based Reading and Writing 75th percentile score (ADM2019)',\n",
    "                    'Imputation/Status Flag For SAT Math 25th percentile score (ADM2019)',\n",
    "                    'Imputation/Status Flag For SAT Math 75th percentile score (ADM2019)',\n",
    "                    'Imputation/Status Flag For ACT Composite 25th percentile score (ADM2019)',\n",
    "                    'Imputation/Status Flag For ACT Composite 75th percentile score (ADM2019)',\n",
    "                    'Imputation/Status Flag For ACT English 25th percentile score (ADM2019)',\n",
    "                    'Imputation/Status Flag For ACT English 75th percentile score (ADM2019)',\n",
    "                    'Imputation/Status Flag For ACT Math 25th percentile score (ADM2019)',\n",
    "                    'Imputation/Status Flag For ACT Math 75th percentile score (ADM2019)', 'Unnamed: 33'\n",
    "                   ]"
   ]
  },
  {
   "cell_type": "code",
   "execution_count": 14,
   "metadata": {},
   "outputs": [],
   "source": [
    "data.drop(columns = columns_to_drop2, inplace = True)"
   ]
  },
  {
   "cell_type": "code",
   "execution_count": 15,
   "metadata": {},
   "outputs": [
    {
     "data": {
      "text/plain": [
       "(1947, 23)"
      ]
     },
     "execution_count": 15,
     "metadata": {},
     "output_type": "execute_result"
    }
   ],
   "source": [
    "data.shape"
   ]
  },
  {
   "cell_type": "markdown",
   "metadata": {},
   "source": [
    "#### Loading in dataframe with college football conference information. Like the admissions statistics, used the 'ipeds_id' to search for this on https://nces.ed.gov/ipeds/use-the-data"
   ]
  },
  {
   "cell_type": "code",
   "execution_count": 16,
   "metadata": {},
   "outputs": [
    {
     "data": {
      "text/html": [
       "<div>\n",
       "<style scoped>\n",
       "    .dataframe tbody tr th:only-of-type {\n",
       "        vertical-align: middle;\n",
       "    }\n",
       "\n",
       "    .dataframe tbody tr th {\n",
       "        vertical-align: top;\n",
       "    }\n",
       "\n",
       "    .dataframe thead th {\n",
       "        text-align: right;\n",
       "    }\n",
       "</style>\n",
       "<table border=\"1\" class=\"dataframe\">\n",
       "  <thead>\n",
       "    <tr style=\"text-align: right;\">\n",
       "      <th></th>\n",
       "      <th>UnitID</th>\n",
       "      <th>Institution Name</th>\n",
       "      <th>NCAA/NAIA member for football (IC2019)</th>\n",
       "      <th>NCAA/NAIA conference number football (IC2019)</th>\n",
       "    </tr>\n",
       "  </thead>\n",
       "  <tbody>\n",
       "    <tr>\n",
       "      <th>0</th>\n",
       "      <td>222178</td>\n",
       "      <td>Abilene Christian University</td>\n",
       "      <td>Yes</td>\n",
       "      <td>Southland Conference</td>\n",
       "    </tr>\n",
       "    <tr>\n",
       "      <th>1</th>\n",
       "      <td>138558</td>\n",
       "      <td>Abraham Baldwin Agricultural College</td>\n",
       "      <td>No</td>\n",
       "      <td>Not applicable</td>\n",
       "    </tr>\n",
       "    <tr>\n",
       "      <th>2</th>\n",
       "      <td>108232</td>\n",
       "      <td>Academy of Art University</td>\n",
       "      <td>No</td>\n",
       "      <td>Not applicable</td>\n",
       "    </tr>\n",
       "    <tr>\n",
       "      <th>3</th>\n",
       "      <td>126182</td>\n",
       "      <td>Adams State University</td>\n",
       "      <td>Yes</td>\n",
       "      <td>Rocky Mountain Athletic Conference</td>\n",
       "    </tr>\n",
       "    <tr>\n",
       "      <th>4</th>\n",
       "      <td>188429</td>\n",
       "      <td>Adelphi University</td>\n",
       "      <td>No</td>\n",
       "      <td>Not applicable</td>\n",
       "    </tr>\n",
       "  </tbody>\n",
       "</table>\n",
       "</div>"
      ],
      "text/plain": [
       "   UnitID                      Institution Name  \\\n",
       "0  222178          Abilene Christian University   \n",
       "1  138558  Abraham Baldwin Agricultural College   \n",
       "2  108232             Academy of Art University   \n",
       "3  126182                Adams State University   \n",
       "4  188429                    Adelphi University   \n",
       "\n",
       "  NCAA/NAIA member for football (IC2019)  \\\n",
       "0                                    Yes   \n",
       "1                                     No   \n",
       "2                                     No   \n",
       "3                                    Yes   \n",
       "4                                     No   \n",
       "\n",
       "  NCAA/NAIA conference number football (IC2019)  \n",
       "0                          Southland Conference  \n",
       "1                                Not applicable  \n",
       "2                                Not applicable  \n",
       "3            Rocky Mountain Athletic Conference  \n",
       "4                                Not applicable  "
      ]
     },
     "execution_count": 16,
     "metadata": {},
     "output_type": "execute_result"
    }
   ],
   "source": [
    "sports = pd.read_csv('./datasets/sports.csv')\n",
    "sports.head()"
   ]
  },
  {
   "cell_type": "code",
   "execution_count": 17,
   "metadata": {},
   "outputs": [],
   "source": [
    "sports.drop(columns = ['NCAA/NAIA member for football (IC2019)', 'Institution Name'], axis = 1, inplace = True)"
   ]
  },
  {
   "cell_type": "markdown",
   "metadata": {},
   "source": [
    "#### Merging in college football information to base dataframe"
   ]
  },
  {
   "cell_type": "code",
   "execution_count": 18,
   "metadata": {},
   "outputs": [],
   "source": [
    "sports['UnitID'].astype(int)\n",
    "data = data.merge(sports, left_on = data['ipeds_id'].astype(int), right_on = sports['UnitID'].astype(int), how = 'left')"
   ]
  },
  {
   "cell_type": "code",
   "execution_count": 19,
   "metadata": {},
   "outputs": [
    {
     "data": {
      "text/plain": [
       "(1947, 26)"
      ]
     },
     "execution_count": 19,
     "metadata": {},
     "output_type": "execute_result"
    }
   ],
   "source": [
    "data.shape"
   ]
  },
  {
   "cell_type": "markdown",
   "metadata": {},
   "source": [
    "#### Loading in regions dataframe"
   ]
  },
  {
   "cell_type": "code",
   "execution_count": 20,
   "metadata": {},
   "outputs": [
    {
     "data": {
      "text/html": [
       "<div>\n",
       "<style scoped>\n",
       "    .dataframe tbody tr th:only-of-type {\n",
       "        vertical-align: middle;\n",
       "    }\n",
       "\n",
       "    .dataframe tbody tr th {\n",
       "        vertical-align: top;\n",
       "    }\n",
       "\n",
       "    .dataframe thead th {\n",
       "        text-align: right;\n",
       "    }\n",
       "</style>\n",
       "<table border=\"1\" class=\"dataframe\">\n",
       "  <thead>\n",
       "    <tr style=\"text-align: right;\">\n",
       "      <th></th>\n",
       "      <th>State</th>\n",
       "      <th>State Code</th>\n",
       "      <th>Region</th>\n",
       "      <th>Division</th>\n",
       "    </tr>\n",
       "  </thead>\n",
       "  <tbody>\n",
       "    <tr>\n",
       "      <th>0</th>\n",
       "      <td>Alaska</td>\n",
       "      <td>AK</td>\n",
       "      <td>West</td>\n",
       "      <td>Pacific</td>\n",
       "    </tr>\n",
       "    <tr>\n",
       "      <th>1</th>\n",
       "      <td>Alabama</td>\n",
       "      <td>AL</td>\n",
       "      <td>South</td>\n",
       "      <td>East South Central</td>\n",
       "    </tr>\n",
       "    <tr>\n",
       "      <th>2</th>\n",
       "      <td>Arkansas</td>\n",
       "      <td>AR</td>\n",
       "      <td>South</td>\n",
       "      <td>West South Central</td>\n",
       "    </tr>\n",
       "    <tr>\n",
       "      <th>3</th>\n",
       "      <td>Arizona</td>\n",
       "      <td>AZ</td>\n",
       "      <td>West</td>\n",
       "      <td>Mountain</td>\n",
       "    </tr>\n",
       "    <tr>\n",
       "      <th>4</th>\n",
       "      <td>California</td>\n",
       "      <td>CA</td>\n",
       "      <td>West</td>\n",
       "      <td>Pacific</td>\n",
       "    </tr>\n",
       "  </tbody>\n",
       "</table>\n",
       "</div>"
      ],
      "text/plain": [
       "        State State Code Region            Division\n",
       "0      Alaska         AK   West             Pacific\n",
       "1     Alabama         AL  South  East South Central\n",
       "2    Arkansas         AR  South  West South Central\n",
       "3     Arizona         AZ   West            Mountain\n",
       "4  California         CA   West             Pacific"
      ]
     },
     "execution_count": 20,
     "metadata": {},
     "output_type": "execute_result"
    }
   ],
   "source": [
    "regions = pd.read_csv('datasets/regions.csv')\n",
    "regions.head()"
   ]
  },
  {
   "cell_type": "code",
   "execution_count": 21,
   "metadata": {},
   "outputs": [
    {
     "data": {
      "text/plain": [
       "(51, 4)"
      ]
     },
     "execution_count": 21,
     "metadata": {},
     "output_type": "execute_result"
    }
   ],
   "source": [
    "regions.shape"
   ]
  },
  {
   "cell_type": "markdown",
   "metadata": {},
   "source": [
    "#### Dropping columns unnecessary for analysis"
   ]
  },
  {
   "cell_type": "code",
   "execution_count": 22,
   "metadata": {},
   "outputs": [],
   "source": [
    "regions.drop(columns = ['State Code', 'Division'], inplace = True)"
   ]
  },
  {
   "cell_type": "markdown",
   "metadata": {},
   "source": [
    "#### Creating dictionary of states with there corresponding regions and mapping dictionary with 'state' to create 'region' column"
   ]
  },
  {
   "cell_type": "code",
   "execution_count": 23,
   "metadata": {},
   "outputs": [],
   "source": [
    "#replace District of Columbia with Washington D.C to match up with combined dataframe\n",
    "regions['State'].replace('District of Columbia', 'Washington, D.C.', inplace=True)\n",
    "\n",
    "#create a dictionary with region values and corresponding states to use to map region to dataframe.\n",
    "region_dict = pd.Series(data = regions.Region.values, index= regions.State).to_dict()\n",
    "\n",
    "data['region'] = data['state'].map(region_dict)"
   ]
  },
  {
   "cell_type": "markdown",
   "metadata": {},
   "source": [
    "#### Loading in state covid policies/mandates dataframe"
   ]
  },
  {
   "cell_type": "code",
   "execution_count": 24,
   "metadata": {},
   "outputs": [],
   "source": [
    "sp = pd.read_csv('datasets/state_policies.csv')"
   ]
  },
  {
   "cell_type": "markdown",
   "metadata": {},
   "source": [
    "#### Creating function to streamline this process for other data dumps from KFF (all same format)"
   ]
  },
  {
   "cell_type": "code",
   "execution_count": 25,
   "metadata": {},
   "outputs": [
    {
     "data": {
      "text/html": [
       "<div>\n",
       "<style scoped>\n",
       "    .dataframe tbody tr th:only-of-type {\n",
       "        vertical-align: middle;\n",
       "    }\n",
       "\n",
       "    .dataframe tbody tr th {\n",
       "        vertical-align: top;\n",
       "    }\n",
       "\n",
       "    .dataframe thead th {\n",
       "        text-align: right;\n",
       "    }\n",
       "</style>\n",
       "<table border=\"1\" class=\"dataframe\">\n",
       "  <thead>\n",
       "    <tr style=\"text-align: right;\">\n",
       "      <th></th>\n",
       "      <th>state</th>\n",
       "      <th>status_of_reopening</th>\n",
       "      <th>stay_at_home_order</th>\n",
       "      <th>mandatory_quarantine_for_travelers</th>\n",
       "      <th>non-essential_business_closures</th>\n",
       "      <th>large_gatherings_ban</th>\n",
       "      <th>restaurant_limits</th>\n",
       "      <th>bar_closures</th>\n",
       "      <th>face_covering_requirement</th>\n",
       "      <th>primary_election_postponement</th>\n",
       "      <th>emergency_declaration</th>\n",
       "    </tr>\n",
       "  </thead>\n",
       "  <tbody>\n",
       "    <tr>\n",
       "      <th>2</th>\n",
       "      <td>Alabama</td>\n",
       "      <td>Paused</td>\n",
       "      <td>Lifted</td>\n",
       "      <td>-</td>\n",
       "      <td>All Non-Essential Businesses Permitted to Reop...</td>\n",
       "      <td>Lifted</td>\n",
       "      <td>Reopened to Dine-in Service</td>\n",
       "      <td>Reopened</td>\n",
       "      <td>Required for General Public</td>\n",
       "      <td>-</td>\n",
       "      <td>Yes</td>\n",
       "    </tr>\n",
       "    <tr>\n",
       "      <th>3</th>\n",
       "      <td>Alaska</td>\n",
       "      <td>Proceeding with Reopening</td>\n",
       "      <td>Lifted</td>\n",
       "      <td>All Travelers</td>\n",
       "      <td>All Non-Essential Businesses Permitted to Reopen</td>\n",
       "      <td>Lifted</td>\n",
       "      <td>Reopened to Dine-in Service</td>\n",
       "      <td>Reopened</td>\n",
       "      <td>Required for Certain Employees</td>\n",
       "      <td>-</td>\n",
       "      <td>Yes</td>\n",
       "    </tr>\n",
       "    <tr>\n",
       "      <th>4</th>\n",
       "      <td>Arizona</td>\n",
       "      <td>New Restrictions Imposed</td>\n",
       "      <td>Lifted</td>\n",
       "      <td>Lifted</td>\n",
       "      <td>New Business Closures or Limits</td>\n",
       "      <td>New Limit on Large Gatherings in Place</td>\n",
       "      <td>New Service Limits</td>\n",
       "      <td>Newly Closed</td>\n",
       "      <td>Required for Certain Employees;\\nAllows Local ...</td>\n",
       "      <td>-</td>\n",
       "      <td>Yes</td>\n",
       "    </tr>\n",
       "    <tr>\n",
       "      <th>5</th>\n",
       "      <td>Arkansas</td>\n",
       "      <td>Paused</td>\n",
       "      <td>-</td>\n",
       "      <td>Lifted</td>\n",
       "      <td>-</td>\n",
       "      <td>Lifted</td>\n",
       "      <td>Reopened to Dine-in Service with Capacity Limits</td>\n",
       "      <td>Reopened</td>\n",
       "      <td>Required for General Public</td>\n",
       "      <td>-</td>\n",
       "      <td>Yes</td>\n",
       "    </tr>\n",
       "    <tr>\n",
       "      <th>6</th>\n",
       "      <td>California</td>\n",
       "      <td>New Restrictions Imposed</td>\n",
       "      <td>Statewide</td>\n",
       "      <td>-</td>\n",
       "      <td>New Business Closures or Limits</td>\n",
       "      <td>All Gatherings Prohibited</td>\n",
       "      <td>Newly Closed to Dine-in Service</td>\n",
       "      <td>Newly Closed</td>\n",
       "      <td>Required for General Public</td>\n",
       "      <td>-</td>\n",
       "      <td>Yes</td>\n",
       "    </tr>\n",
       "  </tbody>\n",
       "</table>\n",
       "</div>"
      ],
      "text/plain": [
       "        state        status_of_reopening stay_at_home_order  \\\n",
       "2     Alabama                     Paused             Lifted   \n",
       "3      Alaska  Proceeding with Reopening             Lifted   \n",
       "4     Arizona   New Restrictions Imposed             Lifted   \n",
       "5    Arkansas                     Paused                  -   \n",
       "6  California   New Restrictions Imposed          Statewide   \n",
       "\n",
       "  mandatory_quarantine_for_travelers  \\\n",
       "2                                  -   \n",
       "3                      All Travelers   \n",
       "4                             Lifted   \n",
       "5                             Lifted   \n",
       "6                                  -   \n",
       "\n",
       "                     non-essential_business_closures  \\\n",
       "2  All Non-Essential Businesses Permitted to Reop...   \n",
       "3   All Non-Essential Businesses Permitted to Reopen   \n",
       "4                    New Business Closures or Limits   \n",
       "5                                                  -   \n",
       "6                    New Business Closures or Limits   \n",
       "\n",
       "                     large_gatherings_ban  \\\n",
       "2                                  Lifted   \n",
       "3                                  Lifted   \n",
       "4  New Limit on Large Gatherings in Place   \n",
       "5                                  Lifted   \n",
       "6               All Gatherings Prohibited   \n",
       "\n",
       "                                  restaurant_limits  bar_closures  \\\n",
       "2                       Reopened to Dine-in Service      Reopened   \n",
       "3                      Reopened to Dine-in Service       Reopened   \n",
       "4                                New Service Limits  Newly Closed   \n",
       "5  Reopened to Dine-in Service with Capacity Limits      Reopened   \n",
       "6                   Newly Closed to Dine-in Service  Newly Closed   \n",
       "\n",
       "                           face_covering_requirement  \\\n",
       "2                        Required for General Public   \n",
       "3                     Required for Certain Employees   \n",
       "4  Required for Certain Employees;\\nAllows Local ...   \n",
       "5                        Required for General Public   \n",
       "6                        Required for General Public   \n",
       "\n",
       "  primary_election_postponement emergency_declaration  \n",
       "2                             -                   Yes  \n",
       "3                             -                   Yes  \n",
       "4                             -                   Yes  \n",
       "5                             -                   Yes  \n",
       "6                             -                   Yes  "
      ]
     },
     "execution_count": 25,
     "metadata": {},
     "output_type": "execute_result"
    }
   ],
   "source": [
    "def clean_social_distance(df):\n",
    "    df['Unnamed: 0'].replace('District of Columbia', 'Washington, D.C.', inplace = True)\n",
    "    df.rename(columns = {'Unnamed: 0': 'state'}, inplace = True)\n",
    "    df.columns = df.columns.str.lower().str.replace(' ', '_')\n",
    "    df.drop([0, 1], axis = 0, inplace = True)\n",
    "    df.reset_index(drop = True)\n",
    "    df.sort_values('state')\n",
    "    \n",
    "    return df\n",
    "\n",
    "clean_social_distance(sp)\n",
    "sp.head()"
   ]
  },
  {
   "cell_type": "markdown",
   "metadata": {},
   "source": [
    "#### Dropping columns unnecessary for analysis"
   ]
  },
  {
   "cell_type": "code",
   "execution_count": 26,
   "metadata": {},
   "outputs": [],
   "source": [
    "columns_to_drop3 = [\n",
    "                    'mandatory_quarantine_for_travelers',\n",
    "                    'non-essential_business_closures',\n",
    "                    'primary_election_postponement',\n",
    "                    'emergency_declaration'\n",
    "                   ]\n",
    "\n",
    "# 'status_of_reopening'"
   ]
  },
  {
   "cell_type": "code",
   "execution_count": 27,
   "metadata": {},
   "outputs": [],
   "source": [
    "sp.drop(columns = columns_to_drop3, inplace = True)"
   ]
  },
  {
   "cell_type": "markdown",
   "metadata": {},
   "source": [
    "#### Merging in state policies to base dataframe"
   ]
  },
  {
   "cell_type": "code",
   "execution_count": 28,
   "metadata": {},
   "outputs": [],
   "source": [
    "data = data.merge(sp, left_on = ['state'], right_on = ['state'], how = 'right')"
   ]
  },
  {
   "cell_type": "code",
   "execution_count": 29,
   "metadata": {},
   "outputs": [
    {
     "data": {
      "text/plain": [
       "(1929, 33)"
      ]
     },
     "execution_count": 29,
     "metadata": {},
     "output_type": "execute_result"
    }
   ],
   "source": [
    "data.shape"
   ]
  },
  {
   "cell_type": "markdown",
   "metadata": {},
   "source": [
    "#### Loading in-person classes plan dataframe"
   ]
  },
  {
   "cell_type": "code",
   "execution_count": 30,
   "metadata": {},
   "outputs": [],
   "source": [
    "cp = pd.read_csv('./datasets/class_plan.csv')"
   ]
  },
  {
   "cell_type": "code",
   "execution_count": 31,
   "metadata": {},
   "outputs": [
    {
     "data": {
      "text/html": [
       "<div>\n",
       "<style scoped>\n",
       "    .dataframe tbody tr th:only-of-type {\n",
       "        vertical-align: middle;\n",
       "    }\n",
       "\n",
       "    .dataframe tbody tr th {\n",
       "        vertical-align: top;\n",
       "    }\n",
       "\n",
       "    .dataframe thead th {\n",
       "        text-align: right;\n",
       "    }\n",
       "</style>\n",
       "<table border=\"1\" class=\"dataframe\">\n",
       "  <thead>\n",
       "    <tr style=\"text-align: right;\">\n",
       "      <th></th>\n",
       "      <th>college</th>\n",
       "      <th>class_plan</th>\n",
       "      <th>total_enrollment</th>\n",
       "    </tr>\n",
       "  </thead>\n",
       "  <tbody>\n",
       "    <tr>\n",
       "      <th>0</th>\n",
       "      <td>Abilene Christian University</td>\n",
       "      <td>Primarily in person</td>\n",
       "      <td>5204</td>\n",
       "    </tr>\n",
       "    <tr>\n",
       "      <th>1</th>\n",
       "      <td>Abraham Baldwin Agricultural College</td>\n",
       "      <td>Primarily online</td>\n",
       "      <td>4291</td>\n",
       "    </tr>\n",
       "    <tr>\n",
       "      <th>2</th>\n",
       "      <td>Adams State University</td>\n",
       "      <td>Hybrid</td>\n",
       "      <td>3110</td>\n",
       "    </tr>\n",
       "    <tr>\n",
       "      <th>3</th>\n",
       "      <td>Adelphi University</td>\n",
       "      <td>Primarily online</td>\n",
       "      <td>8146</td>\n",
       "    </tr>\n",
       "    <tr>\n",
       "      <th>4</th>\n",
       "      <td>Adrian College</td>\n",
       "      <td>Primarily in person</td>\n",
       "      <td>1856</td>\n",
       "    </tr>\n",
       "  </tbody>\n",
       "</table>\n",
       "</div>"
      ],
      "text/plain": [
       "                                college           class_plan  total_enrollment\n",
       "0          Abilene Christian University  Primarily in person              5204\n",
       "1  Abraham Baldwin Agricultural College     Primarily online              4291\n",
       "2                Adams State University               Hybrid              3110\n",
       "3                    Adelphi University     Primarily online              8146\n",
       "4                        Adrian College  Primarily in person              1856"
      ]
     },
     "execution_count": 31,
     "metadata": {},
     "output_type": "execute_result"
    }
   ],
   "source": [
    "cp.head()"
   ]
  },
  {
   "cell_type": "code",
   "execution_count": 32,
   "metadata": {},
   "outputs": [],
   "source": [
    "data['college2'] = data['college'].str.lower()\n",
    "cp['college2'] = cp['college'].str.lower()\n",
    "cp['college2'] = cp['college2'].astype(str)"
   ]
  },
  {
   "cell_type": "markdown",
   "metadata": {},
   "source": [
    "#### Creating function to XXXX"
   ]
  },
  {
   "cell_type": "code",
   "execution_count": 33,
   "metadata": {},
   "outputs": [],
   "source": [
    "def remove_space(column):\n",
    "    \n",
    "    college_list = []\n",
    "    \n",
    "    for college in column:\n",
    "        \n",
    "        cl = college.split()\n",
    "        \n",
    "        if 'at' in cl:\n",
    "            cl.remove('at')\n",
    "        if 'in' in cl:\n",
    "            cl.remove('in')    \n",
    "        if 'the' in cl:\n",
    "            cl.remove('the')\n",
    "        \n",
    "        new_college = \"\".join(cl)\n",
    "        new_college = \"\".join(new_college.split(','))\n",
    "        new_college = \"\".join(new_college.split('.'))\n",
    "        new_college = \"\".join(new_college.split('-'))\n",
    "        new_college = \"\".join(new_college.split('/'))\n",
    "        new_college = \"\".join(new_college.split(\"'\"))\n",
    "    \n",
    "        college_list.append(new_college)\n",
    "    \n",
    "    return college_list"
   ]
  },
  {
   "cell_type": "code",
   "execution_count": 34,
   "metadata": {},
   "outputs": [],
   "source": [
    "data['college2'] = remove_space(data['college2'])\n",
    "cp['college2'] = remove_space(cp['college2'])"
   ]
  },
  {
   "cell_type": "code",
   "execution_count": 35,
   "metadata": {},
   "outputs": [],
   "source": [
    "data = data.merge(cp, on = 'college2', how = 'inner')"
   ]
  },
  {
   "cell_type": "code",
   "execution_count": 36,
   "metadata": {},
   "outputs": [
    {
     "data": {
      "text/plain": [
       "Index(['key_0', 'state', 'ipeds_id', 'college_x', 'cases', 'ids',\n",
       "       'Institution size category (HD2019)',\n",
       "       'Distance education courses offered (IC2019)',\n",
       "       'Admissions total (ADM2019)', 'Enrolled total (ADM2019)',\n",
       "       'Admissions men (ADM2019)', 'Admissions women (ADM2019)',\n",
       "       'Number of first-time degree/certificate-seeking students submitting SAT scores (ADM2019)',\n",
       "       'Number of first-time degree/certificate-seeking students submitting ACT scores (ADM2019)',\n",
       "       'SAT Evidence-Based Reading and Writing 25th percentile score (ADM2019)',\n",
       "       'SAT Evidence-Based Reading and Writing 75th percentile score (ADM2019)',\n",
       "       'SAT Math 25th percentile score (ADM2019)',\n",
       "       'SAT Math 75th percentile score (ADM2019)',\n",
       "       'ACT Composite 25th percentile score (ADM2019)',\n",
       "       'ACT Composite 75th percentile score (ADM2019)',\n",
       "       'ACT English 25th percentile score (ADM2019)',\n",
       "       'ACT English 75th percentile score (ADM2019)',\n",
       "       'ACT Math 25th percentile score (ADM2019)',\n",
       "       'ACT Math 75th percentile score (ADM2019)', 'UnitID',\n",
       "       'NCAA/NAIA conference number football (IC2019)', 'region',\n",
       "       'status_of_reopening', 'stay_at_home_order', 'large_gatherings_ban',\n",
       "       'restaurant_limits', 'bar_closures', 'face_covering_requirement',\n",
       "       'college2', 'college_y', 'class_plan', 'total_enrollment'],\n",
       "      dtype='object')"
      ]
     },
     "execution_count": 36,
     "metadata": {},
     "output_type": "execute_result"
    }
   ],
   "source": [
    "data.columns"
   ]
  },
  {
   "cell_type": "code",
   "execution_count": 37,
   "metadata": {},
   "outputs": [],
   "source": [
    "data.drop(columns = ['key_0', 'college2', 'college_y', 'UnitID'], inplace = True)"
   ]
  },
  {
   "cell_type": "code",
   "execution_count": 38,
   "metadata": {},
   "outputs": [
    {
     "data": {
      "text/plain": [
       "(1382, 33)"
      ]
     },
     "execution_count": 38,
     "metadata": {},
     "output_type": "execute_result"
    }
   ],
   "source": [
    "data.shape"
   ]
  },
  {
   "cell_type": "markdown",
   "metadata": {},
   "source": [
    "## Data Cleaning"
   ]
  },
  {
   "cell_type": "code",
   "execution_count": 39,
   "metadata": {},
   "outputs": [
    {
     "data": {
      "text/plain": [
       "state                                                                                         0\n",
       "ipeds_id                                                                                      0\n",
       "college_x                                                                                     0\n",
       "cases                                                                                        37\n",
       "ids                                                                                           0\n",
       "Institution size category (HD2019)                                                            0\n",
       "Distance education courses offered (IC2019)                                                   0\n",
       "Admissions total (ADM2019)                                                                  195\n",
       "Enrolled total (ADM2019)                                                                    195\n",
       "Admissions men (ADM2019)                                                                    213\n",
       "Admissions women (ADM2019)                                                                  197\n",
       "Number of first-time degree/certificate-seeking students submitting SAT scores (ADM2019)    358\n",
       "Number of first-time degree/certificate-seeking students submitting ACT scores (ADM2019)    358\n",
       "SAT Evidence-Based Reading and Writing 25th percentile score (ADM2019)                      396\n",
       "SAT Evidence-Based Reading and Writing 75th percentile score (ADM2019)                      396\n",
       "SAT Math 25th percentile score (ADM2019)                                                    396\n",
       "SAT Math 75th percentile score (ADM2019)                                                    396\n",
       "ACT Composite 25th percentile score (ADM2019)                                               365\n",
       "ACT Composite 75th percentile score (ADM2019)                                               365\n",
       "ACT English 25th percentile score (ADM2019)                                                 436\n",
       "ACT English 75th percentile score (ADM2019)                                                 436\n",
       "ACT Math 25th percentile score (ADM2019)                                                    436\n",
       "ACT Math 75th percentile score (ADM2019)                                                    436\n",
       "NCAA/NAIA conference number football (IC2019)                                                 0\n",
       "region                                                                                        0\n",
       "status_of_reopening                                                                           0\n",
       "stay_at_home_order                                                                            0\n",
       "large_gatherings_ban                                                                          0\n",
       "restaurant_limits                                                                             0\n",
       "bar_closures                                                                                  0\n",
       "face_covering_requirement                                                                     0\n",
       "class_plan                                                                                    0\n",
       "total_enrollment                                                                              0\n",
       "dtype: int64"
      ]
     },
     "execution_count": 39,
     "metadata": {},
     "output_type": "execute_result"
    }
   ],
   "source": [
    "data.isnull().sum()"
   ]
  },
  {
   "cell_type": "markdown",
   "metadata": {},
   "source": [
    "#### Dropping all rows with null values"
   ]
  },
  {
   "cell_type": "code",
   "execution_count": 40,
   "metadata": {},
   "outputs": [],
   "source": [
    "data.dropna(inplace = True)"
   ]
  },
  {
   "cell_type": "code",
   "execution_count": 41,
   "metadata": {},
   "outputs": [
    {
     "data": {
      "text/plain": [
       "(877, 33)"
      ]
     },
     "execution_count": 41,
     "metadata": {},
     "output_type": "execute_result"
    }
   ],
   "source": [
    "data.shape"
   ]
  },
  {
   "cell_type": "markdown",
   "metadata": {},
   "source": [
    "#### Renaming columns"
   ]
  },
  {
   "cell_type": "code",
   "execution_count": 42,
   "metadata": {},
   "outputs": [],
   "source": [
    "column_names_dict = {\n",
    "                    'college_x': 'college',\n",
    "                    'Institution size category (HD2019)' : 'college_size_category',\n",
    "                    'Distance education courses offered (IC2019)' : 'distance_educ_offered',\n",
    "                    'Admissions total (ADM2019)' : 'admissions_total', \n",
    "                    'Enrolled total (ADM2019)' : 'freshmen_enrollment',\n",
    "                    'Admissions men (ADM2019)' : 'admissions_men', \n",
    "                    'Admissions women (ADM2019)' : 'admissions_women',\n",
    "                    'Number of first-time degree/certificate-seeking students submitting SAT scores (ADM2019)' : 'number_freshmen_submitting_sat',\n",
    "                    'Number of first-time degree/certificate-seeking students submitting ACT scores (ADM2019)' : 'number_freshmen_submitting_act',\n",
    "                    'SAT Evidence-Based Reading and Writing 25th percentile score (ADM2019)' : 'sat_ebrw_25',\n",
    "                    'SAT Evidence-Based Reading and Writing 75th percentile score (ADM2019)' : 'sat_ebrw_75',\n",
    "                    'SAT Math 25th percentile score (ADM2019)' : 'sat_math_25',\n",
    "                    'SAT Math 75th percentile score (ADM2019)' : 'sat_math_75',\n",
    "                    'ACT Composite 25th percentile score (ADM2019)' : 'act_comp_25',\n",
    "                    'ACT Composite 75th percentile score (ADM2019)' : 'act_comp_75',\n",
    "                    'ACT English 25th percentile score (ADM2019)' : 'act_english_25',\n",
    "                    'ACT English 75th percentile score (ADM2019)' : 'act_english_75',\n",
    "                    'ACT Math 25th percentile score (ADM2019)' : 'act_math_25',\n",
    "                    'ACT Math 75th percentile score (ADM2019)' : 'act_math_75',\n",
    "                    'NCAA/NAIA conference number football (IC2019)': 'football_conference',\n",
    "                    'status_of_reopening' : 'status_reopening',\n",
    "                    'large_gatherings_ban' : 'large_gatherings',\n",
    "                    'face_covering_requirement' : 'face_coverings'\n",
    "                    }"
   ]
  },
  {
   "cell_type": "code",
   "execution_count": 43,
   "metadata": {},
   "outputs": [],
   "source": [
    "data.rename(columns = column_names_dict, inplace = True)"
   ]
  },
  {
   "cell_type": "code",
   "execution_count": 44,
   "metadata": {},
   "outputs": [
    {
     "data": {
      "text/html": [
       "<div>\n",
       "<style scoped>\n",
       "    .dataframe tbody tr th:only-of-type {\n",
       "        vertical-align: middle;\n",
       "    }\n",
       "\n",
       "    .dataframe tbody tr th {\n",
       "        vertical-align: top;\n",
       "    }\n",
       "\n",
       "    .dataframe thead th {\n",
       "        text-align: right;\n",
       "    }\n",
       "</style>\n",
       "<table border=\"1\" class=\"dataframe\">\n",
       "  <thead>\n",
       "    <tr style=\"text-align: right;\">\n",
       "      <th></th>\n",
       "      <th>state</th>\n",
       "      <th>ipeds_id</th>\n",
       "      <th>college</th>\n",
       "      <th>cases</th>\n",
       "      <th>ids</th>\n",
       "      <th>college_size_category</th>\n",
       "      <th>distance_educ_offered</th>\n",
       "      <th>admissions_total</th>\n",
       "      <th>freshmen_enrollment</th>\n",
       "      <th>admissions_men</th>\n",
       "      <th>...</th>\n",
       "      <th>football_conference</th>\n",
       "      <th>region</th>\n",
       "      <th>status_reopening</th>\n",
       "      <th>stay_at_home_order</th>\n",
       "      <th>large_gatherings</th>\n",
       "      <th>restaurant_limits</th>\n",
       "      <th>bar_closures</th>\n",
       "      <th>face_coverings</th>\n",
       "      <th>class_plan</th>\n",
       "      <th>total_enrollment</th>\n",
       "    </tr>\n",
       "  </thead>\n",
       "  <tbody>\n",
       "    <tr>\n",
       "      <th>0</th>\n",
       "      <td>Alabama</td>\n",
       "      <td>100654.0</td>\n",
       "      <td>Alabama A&amp;M University</td>\n",
       "      <td>41.0</td>\n",
       "      <td>100654</td>\n",
       "      <td>3.0</td>\n",
       "      <td>1.0</td>\n",
       "      <td>8789.0</td>\n",
       "      <td>1710.0</td>\n",
       "      <td>2828.0</td>\n",
       "      <td>...</td>\n",
       "      <td>Southwestern Athletic Conference</td>\n",
       "      <td>South</td>\n",
       "      <td>Paused</td>\n",
       "      <td>Lifted</td>\n",
       "      <td>Lifted</td>\n",
       "      <td>Reopened to Dine-in Service</td>\n",
       "      <td>Reopened</td>\n",
       "      <td>Required for General Public</td>\n",
       "      <td>Hybrid</td>\n",
       "      <td>6106</td>\n",
       "    </tr>\n",
       "    <tr>\n",
       "      <th>1</th>\n",
       "      <td>Alabama</td>\n",
       "      <td>100724.0</td>\n",
       "      <td>Alabama State University</td>\n",
       "      <td>2.0</td>\n",
       "      <td>100724</td>\n",
       "      <td>2.0</td>\n",
       "      <td>1.0</td>\n",
       "      <td>6467.0</td>\n",
       "      <td>1023.0</td>\n",
       "      <td>1963.0</td>\n",
       "      <td>...</td>\n",
       "      <td>Southwestern Athletic Conference</td>\n",
       "      <td>South</td>\n",
       "      <td>Paused</td>\n",
       "      <td>Lifted</td>\n",
       "      <td>Lifted</td>\n",
       "      <td>Reopened to Dine-in Service</td>\n",
       "      <td>Reopened</td>\n",
       "      <td>Required for General Public</td>\n",
       "      <td>Hybrid</td>\n",
       "      <td>4413</td>\n",
       "    </tr>\n",
       "    <tr>\n",
       "      <th>2</th>\n",
       "      <td>Alabama</td>\n",
       "      <td>100858.0</td>\n",
       "      <td>Auburn University</td>\n",
       "      <td>2134.0</td>\n",
       "      <td>100858</td>\n",
       "      <td>5.0</td>\n",
       "      <td>1.0</td>\n",
       "      <td>16300.0</td>\n",
       "      <td>4808.0</td>\n",
       "      <td>6997.0</td>\n",
       "      <td>...</td>\n",
       "      <td>Southeastern Conference</td>\n",
       "      <td>South</td>\n",
       "      <td>Paused</td>\n",
       "      <td>Lifted</td>\n",
       "      <td>Lifted</td>\n",
       "      <td>Reopened to Dine-in Service</td>\n",
       "      <td>Reopened</td>\n",
       "      <td>Required for General Public</td>\n",
       "      <td>Hybrid</td>\n",
       "      <td>30440</td>\n",
       "    </tr>\n",
       "    <tr>\n",
       "      <th>3</th>\n",
       "      <td>Alabama</td>\n",
       "      <td>100830.0</td>\n",
       "      <td>Auburn University at Montgomery</td>\n",
       "      <td>140.0</td>\n",
       "      <td>100830</td>\n",
       "      <td>3.0</td>\n",
       "      <td>1.0</td>\n",
       "      <td>3716.0</td>\n",
       "      <td>626.0</td>\n",
       "      <td>1306.0</td>\n",
       "      <td>...</td>\n",
       "      <td>Not applicable</td>\n",
       "      <td>South</td>\n",
       "      <td>Paused</td>\n",
       "      <td>Lifted</td>\n",
       "      <td>Lifted</td>\n",
       "      <td>Reopened to Dine-in Service</td>\n",
       "      <td>Reopened</td>\n",
       "      <td>Required for General Public</td>\n",
       "      <td>Hybrid</td>\n",
       "      <td>5211</td>\n",
       "    </tr>\n",
       "    <tr>\n",
       "      <th>4</th>\n",
       "      <td>Alabama</td>\n",
       "      <td>100937.0</td>\n",
       "      <td>Birmingham-Southern College</td>\n",
       "      <td>214.0</td>\n",
       "      <td>100937</td>\n",
       "      <td>2.0</td>\n",
       "      <td>1.0</td>\n",
       "      <td>1821.0</td>\n",
       "      <td>332.0</td>\n",
       "      <td>842.0</td>\n",
       "      <td>...</td>\n",
       "      <td>Southern Athletic Association</td>\n",
       "      <td>South</td>\n",
       "      <td>Paused</td>\n",
       "      <td>Lifted</td>\n",
       "      <td>Lifted</td>\n",
       "      <td>Reopened to Dine-in Service</td>\n",
       "      <td>Reopened</td>\n",
       "      <td>Required for General Public</td>\n",
       "      <td>Primarily in person</td>\n",
       "      <td>1268</td>\n",
       "    </tr>\n",
       "  </tbody>\n",
       "</table>\n",
       "<p>5 rows × 33 columns</p>\n",
       "</div>"
      ],
      "text/plain": [
       "     state  ipeds_id                          college   cases     ids  \\\n",
       "0  Alabama  100654.0           Alabama A&M University    41.0  100654   \n",
       "1  Alabama  100724.0         Alabama State University     2.0  100724   \n",
       "2  Alabama  100858.0                Auburn University  2134.0  100858   \n",
       "3  Alabama  100830.0  Auburn University at Montgomery   140.0  100830   \n",
       "4  Alabama  100937.0      Birmingham-Southern College   214.0  100937   \n",
       "\n",
       "   college_size_category  distance_educ_offered  admissions_total  \\\n",
       "0                    3.0                    1.0            8789.0   \n",
       "1                    2.0                    1.0            6467.0   \n",
       "2                    5.0                    1.0           16300.0   \n",
       "3                    3.0                    1.0            3716.0   \n",
       "4                    2.0                    1.0            1821.0   \n",
       "\n",
       "   freshmen_enrollment  admissions_men  ...               football_conference  \\\n",
       "0               1710.0          2828.0  ...  Southwestern Athletic Conference   \n",
       "1               1023.0          1963.0  ...  Southwestern Athletic Conference   \n",
       "2               4808.0          6997.0  ...           Southeastern Conference   \n",
       "3                626.0          1306.0  ...                    Not applicable   \n",
       "4                332.0           842.0  ...     Southern Athletic Association   \n",
       "\n",
       "   region  status_reopening  stay_at_home_order  large_gatherings  \\\n",
       "0   South            Paused              Lifted            Lifted   \n",
       "1   South            Paused              Lifted            Lifted   \n",
       "2   South            Paused              Lifted            Lifted   \n",
       "3   South            Paused              Lifted            Lifted   \n",
       "4   South            Paused              Lifted            Lifted   \n",
       "\n",
       "             restaurant_limits  bar_closures               face_coverings  \\\n",
       "0  Reopened to Dine-in Service      Reopened  Required for General Public   \n",
       "1  Reopened to Dine-in Service      Reopened  Required for General Public   \n",
       "2  Reopened to Dine-in Service      Reopened  Required for General Public   \n",
       "3  Reopened to Dine-in Service      Reopened  Required for General Public   \n",
       "4  Reopened to Dine-in Service      Reopened  Required for General Public   \n",
       "\n",
       "            class_plan  total_enrollment  \n",
       "0               Hybrid              6106  \n",
       "1               Hybrid              4413  \n",
       "2               Hybrid             30440  \n",
       "3               Hybrid              5211  \n",
       "4  Primarily in person              1268  \n",
       "\n",
       "[5 rows x 33 columns]"
      ]
     },
     "execution_count": 44,
     "metadata": {},
     "output_type": "execute_result"
    }
   ],
   "source": [
    "data.head()"
   ]
  },
  {
   "cell_type": "markdown",
   "metadata": {},
   "source": [
    "#### XXX"
   ]
  },
  {
   "cell_type": "code",
   "execution_count": 45,
   "metadata": {},
   "outputs": [
    {
     "data": {
      "text/plain": [
       "New Restrictions Imposed     426\n",
       "Proceeding with Reopening    236\n",
       "Paused                       125\n",
       "Reopened                      90\n",
       "Name: status_reopening, dtype: int64"
      ]
     },
     "execution_count": 45,
     "metadata": {},
     "output_type": "execute_result"
    }
   ],
   "source": [
    "data['status_reopening'].value_counts()"
   ]
  },
  {
   "cell_type": "code",
   "execution_count": 46,
   "metadata": {},
   "outputs": [],
   "source": [
    "data['status_reopening'].replace('Proceeding with Reopening', 'Reopened', inplace = True)"
   ]
  },
  {
   "cell_type": "markdown",
   "metadata": {},
   "source": [
    "#### XXX"
   ]
  },
  {
   "cell_type": "code",
   "execution_count": 47,
   "metadata": {},
   "outputs": [
    {
     "data": {
      "text/plain": [
       "New Limit on Large Gatherings in Place    253\n",
       "Expanded to New Limit Above 25            239\n",
       "Lifted                                    169\n",
       "Expanded to New Limit of 25 or Fewer       80\n",
       ">10 People Prohibited                      76\n",
       "All Gatherings Prohibited                  54\n",
       "-                                           6\n",
       "Name: large_gatherings, dtype: int64"
      ]
     },
     "execution_count": 47,
     "metadata": {},
     "output_type": "execute_result"
    }
   ],
   "source": [
    "data['large_gatherings'].value_counts()"
   ]
  },
  {
   "cell_type": "code",
   "execution_count": 48,
   "metadata": {},
   "outputs": [],
   "source": [
    "data['large_gatherings'].replace('>10 People Prohibited', '>25_prohibited', inplace = True)\n",
    "data['large_gatherings'].replace('Expanded to New Limit of 25 or Fewer', '>25_prohibited', inplace = True)"
   ]
  },
  {
   "cell_type": "markdown",
   "metadata": {},
   "source": [
    "#### XXX"
   ]
  },
  {
   "cell_type": "code",
   "execution_count": 49,
   "metadata": {},
   "outputs": [
    {
     "data": {
      "text/plain": [
       "Reopened to Dine-in Service with Capacity Limits    404\n",
       "New Service Limits                                  195\n",
       "Reopened to Dine-in Service                         175\n",
       "Newly Closed to Dine-in Service                      54\n",
       "Reopened to Dine-in Service                          40\n",
       "-                                                     9\n",
       "Name: restaurant_limits, dtype: int64"
      ]
     },
     "execution_count": 49,
     "metadata": {},
     "output_type": "execute_result"
    }
   ],
   "source": [
    "data['restaurant_limits'].value_counts()"
   ]
  },
  {
   "cell_type": "code",
   "execution_count": 50,
   "metadata": {},
   "outputs": [],
   "source": [
    "data['restaurant_limits'].replace('Reopened to Dine-in Service ', 'Reopened to Dine-in Service', inplace = True)"
   ]
  },
  {
   "cell_type": "markdown",
   "metadata": {},
   "source": [
    "#### XXX"
   ]
  },
  {
   "cell_type": "code",
   "execution_count": 51,
   "metadata": {},
   "outputs": [
    {
     "data": {
      "text/plain": [
       "Reopened              362\n",
       "Newly Closed          258\n",
       "Closed                146\n",
       "New Service Limits    111\n",
       "Name: bar_closures, dtype: int64"
      ]
     },
     "execution_count": 51,
     "metadata": {},
     "output_type": "execute_result"
    }
   ],
   "source": [
    "data['bar_closures'].value_counts()"
   ]
  },
  {
   "cell_type": "code",
   "execution_count": 52,
   "metadata": {},
   "outputs": [],
   "source": [
    "data['bar_closures'].replace('Newly Closed', 'Closed', inplace = True)"
   ]
  },
  {
   "cell_type": "markdown",
   "metadata": {},
   "source": [
    "#### XXX"
   ]
  },
  {
   "cell_type": "code",
   "execution_count": 53,
   "metadata": {},
   "outputs": [
    {
     "data": {
      "text/plain": [
       "Required for General Public                                                              687\n",
       "Required for Certain Employees                                                            80\n",
       "Allows Local Officals to Require for General Public                                       58\n",
       "-                                                                                         44\n",
       "-                                                                                          6\n",
       "Required for Certain Employees;\\nAllows Local Officials to Require for General Public      2\n",
       "Name: face_coverings, dtype: int64"
      ]
     },
     "execution_count": 53,
     "metadata": {},
     "output_type": "execute_result"
    }
   ],
   "source": [
    "data['face_coverings'].value_counts()"
   ]
  },
  {
   "cell_type": "code",
   "execution_count": 54,
   "metadata": {},
   "outputs": [],
   "source": [
    "data['face_coverings'].replace('- ', '-', inplace = True)\n",
    "data['face_coverings'].replace('Required for Certain Employees;\\nAllows Local Officials to Require for General Public', 'Required for Certain Employees', inplace = True)"
   ]
  },
  {
   "cell_type": "markdown",
   "metadata": {},
   "source": [
    "#### XXX"
   ]
  },
  {
   "cell_type": "code",
   "execution_count": 55,
   "metadata": {},
   "outputs": [
    {
     "data": {
      "text/plain": [
       "Primarily in person    272\n",
       "Primarily online       261\n",
       "Hybrid                 238\n",
       "Fully online            65\n",
       "Fully in person         29\n",
       "Other                    7\n",
       "Undetermined             5\n",
       "Name: class_plan, dtype: int64"
      ]
     },
     "execution_count": 55,
     "metadata": {},
     "output_type": "execute_result"
    }
   ],
   "source": [
    "data['class_plan'].value_counts()"
   ]
  },
  {
   "cell_type": "code",
   "execution_count": 56,
   "metadata": {},
   "outputs": [],
   "source": [
    "data['class_plan'].replace('Undetermined', 'Other', inplace = True)"
   ]
  },
  {
   "cell_type": "markdown",
   "metadata": {},
   "source": [
    "#### Creating target variable --> Colleges with greater than 5% infection rate"
   ]
  },
  {
   "cell_type": "code",
   "execution_count": 57,
   "metadata": {},
   "outputs": [],
   "source": [
    "data['percent_infected'] = (data['cases'] / data['total_enrollment'])"
   ]
  },
  {
   "cell_type": "code",
   "execution_count": 58,
   "metadata": {},
   "outputs": [],
   "source": [
    "data['greater_than_5'] = ((data['cases'] / data['total_enrollment']) > 0.05).astype(int)"
   ]
  },
  {
   "cell_type": "code",
   "execution_count": 59,
   "metadata": {},
   "outputs": [
    {
     "data": {
      "text/html": [
       "<div>\n",
       "<style scoped>\n",
       "    .dataframe tbody tr th:only-of-type {\n",
       "        vertical-align: middle;\n",
       "    }\n",
       "\n",
       "    .dataframe tbody tr th {\n",
       "        vertical-align: top;\n",
       "    }\n",
       "\n",
       "    .dataframe thead th {\n",
       "        text-align: right;\n",
       "    }\n",
       "</style>\n",
       "<table border=\"1\" class=\"dataframe\">\n",
       "  <thead>\n",
       "    <tr style=\"text-align: right;\">\n",
       "      <th></th>\n",
       "      <th>state</th>\n",
       "      <th>ipeds_id</th>\n",
       "      <th>college</th>\n",
       "      <th>cases</th>\n",
       "      <th>ids</th>\n",
       "      <th>college_size_category</th>\n",
       "      <th>distance_educ_offered</th>\n",
       "      <th>admissions_total</th>\n",
       "      <th>freshmen_enrollment</th>\n",
       "      <th>admissions_men</th>\n",
       "      <th>...</th>\n",
       "      <th>status_reopening</th>\n",
       "      <th>stay_at_home_order</th>\n",
       "      <th>large_gatherings</th>\n",
       "      <th>restaurant_limits</th>\n",
       "      <th>bar_closures</th>\n",
       "      <th>face_coverings</th>\n",
       "      <th>class_plan</th>\n",
       "      <th>total_enrollment</th>\n",
       "      <th>percent_infected</th>\n",
       "      <th>greater_than_5</th>\n",
       "    </tr>\n",
       "  </thead>\n",
       "  <tbody>\n",
       "    <tr>\n",
       "      <th>1363</th>\n",
       "      <td>Wisconsin</td>\n",
       "      <td>239390.0</td>\n",
       "      <td>Mount Mary University</td>\n",
       "      <td>58.0</td>\n",
       "      <td>239390</td>\n",
       "      <td>2.0</td>\n",
       "      <td>1.0</td>\n",
       "      <td>419.0</td>\n",
       "      <td>126.0</td>\n",
       "      <td>0.0</td>\n",
       "      <td>...</td>\n",
       "      <td>Reopened</td>\n",
       "      <td>Lifted</td>\n",
       "      <td>Lifted</td>\n",
       "      <td>Reopened to Dine-in Service</td>\n",
       "      <td>Reopened</td>\n",
       "      <td>Required for General Public</td>\n",
       "      <td>Primarily online</td>\n",
       "      <td>1339</td>\n",
       "      <td>0.043316</td>\n",
       "      <td>0</td>\n",
       "    </tr>\n",
       "    <tr>\n",
       "      <th>1369</th>\n",
       "      <td>Wisconsin</td>\n",
       "      <td>240444.0</td>\n",
       "      <td>University of Wisconsin-Madison</td>\n",
       "      <td>5182.0</td>\n",
       "      <td>240444</td>\n",
       "      <td>5.0</td>\n",
       "      <td>1.0</td>\n",
       "      <td>23886.0</td>\n",
       "      <td>7550.0</td>\n",
       "      <td>11118.0</td>\n",
       "      <td>...</td>\n",
       "      <td>Reopened</td>\n",
       "      <td>Lifted</td>\n",
       "      <td>Lifted</td>\n",
       "      <td>Reopened to Dine-in Service</td>\n",
       "      <td>Reopened</td>\n",
       "      <td>Required for General Public</td>\n",
       "      <td>Primarily online</td>\n",
       "      <td>43463</td>\n",
       "      <td>0.119228</td>\n",
       "      <td>1</td>\n",
       "    </tr>\n",
       "    <tr>\n",
       "      <th>1379</th>\n",
       "      <td>Wisconsin</td>\n",
       "      <td>240107.0</td>\n",
       "      <td>Viterbo University</td>\n",
       "      <td>311.0</td>\n",
       "      <td>240107</td>\n",
       "      <td>2.0</td>\n",
       "      <td>1.0</td>\n",
       "      <td>974.0</td>\n",
       "      <td>283.0</td>\n",
       "      <td>237.0</td>\n",
       "      <td>...</td>\n",
       "      <td>Reopened</td>\n",
       "      <td>Lifted</td>\n",
       "      <td>Lifted</td>\n",
       "      <td>Reopened to Dine-in Service</td>\n",
       "      <td>Reopened</td>\n",
       "      <td>Required for General Public</td>\n",
       "      <td>Primarily in person</td>\n",
       "      <td>2598</td>\n",
       "      <td>0.119707</td>\n",
       "      <td>1</td>\n",
       "    </tr>\n",
       "    <tr>\n",
       "      <th>1380</th>\n",
       "      <td>Wisconsin</td>\n",
       "      <td>240338.0</td>\n",
       "      <td>Wisconsin Lutheran College</td>\n",
       "      <td>120.0</td>\n",
       "      <td>240338</td>\n",
       "      <td>2.0</td>\n",
       "      <td>1.0</td>\n",
       "      <td>670.0</td>\n",
       "      <td>213.0</td>\n",
       "      <td>316.0</td>\n",
       "      <td>...</td>\n",
       "      <td>Reopened</td>\n",
       "      <td>Lifted</td>\n",
       "      <td>Lifted</td>\n",
       "      <td>Reopened to Dine-in Service</td>\n",
       "      <td>Reopened</td>\n",
       "      <td>Required for General Public</td>\n",
       "      <td>Hybrid</td>\n",
       "      <td>1248</td>\n",
       "      <td>0.096154</td>\n",
       "      <td>1</td>\n",
       "    </tr>\n",
       "    <tr>\n",
       "      <th>1381</th>\n",
       "      <td>Wyoming</td>\n",
       "      <td>240727.0</td>\n",
       "      <td>University of Wyoming</td>\n",
       "      <td>1795.0</td>\n",
       "      <td>240727</td>\n",
       "      <td>4.0</td>\n",
       "      <td>1.0</td>\n",
       "      <td>5132.0</td>\n",
       "      <td>1760.0</td>\n",
       "      <td>2569.0</td>\n",
       "      <td>...</td>\n",
       "      <td>Reopened</td>\n",
       "      <td>-</td>\n",
       "      <td>Expanded to New Limit Above 25</td>\n",
       "      <td>Reopened to Dine-in Service</td>\n",
       "      <td>Reopened</td>\n",
       "      <td>Required for Certain Employees</td>\n",
       "      <td>Primarily in person</td>\n",
       "      <td>12450</td>\n",
       "      <td>0.144177</td>\n",
       "      <td>1</td>\n",
       "    </tr>\n",
       "  </tbody>\n",
       "</table>\n",
       "<p>5 rows × 35 columns</p>\n",
       "</div>"
      ],
      "text/plain": [
       "          state  ipeds_id                          college   cases     ids  \\\n",
       "1363  Wisconsin  239390.0            Mount Mary University    58.0  239390   \n",
       "1369  Wisconsin  240444.0  University of Wisconsin-Madison  5182.0  240444   \n",
       "1379  Wisconsin  240107.0               Viterbo University   311.0  240107   \n",
       "1380  Wisconsin  240338.0       Wisconsin Lutheran College   120.0  240338   \n",
       "1381    Wyoming  240727.0            University of Wyoming  1795.0  240727   \n",
       "\n",
       "      college_size_category  distance_educ_offered  admissions_total  \\\n",
       "1363                    2.0                    1.0             419.0   \n",
       "1369                    5.0                    1.0           23886.0   \n",
       "1379                    2.0                    1.0             974.0   \n",
       "1380                    2.0                    1.0             670.0   \n",
       "1381                    4.0                    1.0            5132.0   \n",
       "\n",
       "      freshmen_enrollment  admissions_men  ...  status_reopening  \\\n",
       "1363                126.0             0.0  ...          Reopened   \n",
       "1369               7550.0         11118.0  ...          Reopened   \n",
       "1379                283.0           237.0  ...          Reopened   \n",
       "1380                213.0           316.0  ...          Reopened   \n",
       "1381               1760.0          2569.0  ...          Reopened   \n",
       "\n",
       "      stay_at_home_order                large_gatherings  \\\n",
       "1363              Lifted                          Lifted   \n",
       "1369              Lifted                          Lifted   \n",
       "1379              Lifted                          Lifted   \n",
       "1380              Lifted                          Lifted   \n",
       "1381                   -  Expanded to New Limit Above 25   \n",
       "\n",
       "                restaurant_limits  bar_closures  \\\n",
       "1363  Reopened to Dine-in Service      Reopened   \n",
       "1369  Reopened to Dine-in Service      Reopened   \n",
       "1379  Reopened to Dine-in Service      Reopened   \n",
       "1380  Reopened to Dine-in Service      Reopened   \n",
       "1381  Reopened to Dine-in Service      Reopened   \n",
       "\n",
       "                      face_coverings           class_plan  total_enrollment  \\\n",
       "1363     Required for General Public     Primarily online              1339   \n",
       "1369     Required for General Public     Primarily online             43463   \n",
       "1379     Required for General Public  Primarily in person              2598   \n",
       "1380     Required for General Public               Hybrid              1248   \n",
       "1381  Required for Certain Employees  Primarily in person             12450   \n",
       "\n",
       "      percent_infected  greater_than_5  \n",
       "1363          0.043316               0  \n",
       "1369          0.119228               1  \n",
       "1379          0.119707               1  \n",
       "1380          0.096154               1  \n",
       "1381          0.144177               1  \n",
       "\n",
       "[5 rows x 35 columns]"
      ]
     },
     "execution_count": 59,
     "metadata": {},
     "output_type": "execute_result"
    }
   ],
   "source": [
    "data.head()"
   ]
  },
  {
   "cell_type": "markdown",
   "metadata": {},
   "source": [
    "#### Final drop of unecessary columns and saving combined dataframe"
   ]
  },
  {
   "cell_type": "code",
   "execution_count": 63,
   "metadata": {},
   "outputs": [],
   "source": [
    "data.drop(columns = ['ipeds_id', 'ids'], inplace = True)"
   ]
  },
  {
   "cell_type": "code",
   "execution_count": 64,
   "metadata": {},
   "outputs": [],
   "source": [
    "data.to_csv('./datasets/combined_df2.csv', index = False)"
   ]
  }
 ],
 "metadata": {
  "kernelspec": {
   "display_name": "Python 3",
   "language": "python",
   "name": "python3"
  },
  "language_info": {
   "codemirror_mode": {
    "name": "ipython",
    "version": 3
   },
   "file_extension": ".py",
   "mimetype": "text/x-python",
   "name": "python",
   "nbconvert_exporter": "python",
   "pygments_lexer": "ipython3",
   "version": "3.8.3"
  }
 },
 "nbformat": 4,
 "nbformat_minor": 4
}
